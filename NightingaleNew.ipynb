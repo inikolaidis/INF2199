{
 "cells": [
  {
   "cell_type": "markdown",
   "id": "agreed-wilson",
   "metadata": {},
   "source": [
    "## Nightingale's coxcombs reimagined\n",
    "\n",
    "Florence Nightingale was not only the founder of modern nursing, but also a pioneering statistican who used infographic visualizations commonly referred to as \"coxcombs\" to make a case for improving the sanitation conditions of hospitals. A Nightingale coxcomb is composed of 12 equal-degree slices of a disc, one corresponding to each month. Each slice shows the proportions deaths due to different causes. Each colour of wedge within a slice represents a different cause of death. In Nightingale's original diagram below, the blue wedge's areas represents deaths from preventable or zymotic diseases. The area of the red wedge represents deaths from wounds and injuries, and the area of the black wedge represents deaths from all other causes.\n"
   ]
  },
  {
   "cell_type": "markdown",
   "id": "inside-scanner",
   "metadata": {},
   "source": [
    "![title](coxcombs.jpg)"
   ]
  },
  {
   "cell_type": "markdown",
   "id": "great-billion",
   "metadata": {},
   "source": [
    "The intention of Nightingale's coxcombs diagram was to communicate **the rate of soldiers dying from preventable zymotic diseases** by juxtaposing the proportions of these deaths against those due to other causes of war. The following dashboard redesign of Nightingale's coxcombs preserves this intention.\n",
    "\n",
    "----\n",
    "\n",
    "Firstly, using the **annual mortality rate** measurement proposed by Nightingale, we will examine **the difference between annual mortality rates by month, based on cause of mortality**. This measure is represented by the following formula, where *D* represents the number of mortalities that month due to the cause examined, *S* is the average size of army that month, and the 12,000 numerator represents rate per thousand, across 12 months: \n",
    "\n",
    "$$\\frac{1200D}{S} = \\text{Annual Mortality Rate (AMR)}$$\n",
    "\n",
    "One challenge of the original coxcombs graphic is comparing proportions across time. The circular diagram is meant to communicate the cycle of the year and makes seasonal comparison easy, however, because only 12 months are fitted at a time on the disc, this makes comparisons across years, or even across non-consecutive months, a challenge. \n",
    "\n",
    "----\n",
    "\n",
    "My dashboard redesign aims to: \n",
    "1. facilitate easier comparison across different months, years \n",
    "2. to illustrate direct comparisons between aggregate Annual Mortality Rates, including and excluding those due to zymotic disease."
   ]
  },
  {
   "cell_type": "code",
   "execution_count": 45,
   "id": "unauthorized-token",
   "metadata": {},
   "outputs": [],
   "source": [
    "import pandas as pd\n",
    "import plotly.express as px\n",
    "import plotly.graph_objects as go"
   ]
  },
  {
   "cell_type": "code",
   "execution_count": 49,
   "id": "chinese-twins",
   "metadata": {},
   "outputs": [],
   "source": [
    "#reading in both short and long versions of data\n",
    "df = pd.read_csv('Nightingale.csv')\n",
    "df_long = pd.read_csv('Nightingalelong.csv')"
   ]
  },
  {
   "cell_type": "code",
   "execution_count": 53,
   "id": "willing-effect",
   "metadata": {},
   "outputs": [
    {
     "data": {
      "application/vnd.plotly.v1+json": {
       "config": {
        "plotlyServerURL": "https://plot.ly"
       },
       "data": [
        {
         "alignmentgroup": "True",
         "hovertemplate": "Cause of Mortality=%{x}<br>Month=Apr 1854<br>Annual rate of mortality (based on monthly rate)=%{y}<extra></extra>",
         "legendgroup": "Zymotic Diseases",
         "marker": {
          "color": "#636efa"
         },
         "name": "Zymotic Diseases",
         "offsetgroup": "Zymotic Diseases",
         "orientation": "v",
         "showlegend": true,
         "textposition": "auto",
         "type": "bar",
         "x": [
          "Zymotic Diseases"
         ],
         "xaxis": "x",
         "y": [
          1.4
         ],
         "yaxis": "y"
        },
        {
         "alignmentgroup": "True",
         "hovertemplate": "Cause of Mortality=%{x}<br>Month=Apr 1854<br>Annual rate of mortality (based on monthly rate)=%{y}<extra></extra>",
         "legendgroup": "Wounds & Injuries",
         "marker": {
          "color": "#EF553B"
         },
         "name": "Wounds & Injuries",
         "offsetgroup": "Wounds & Injuries",
         "orientation": "v",
         "showlegend": true,
         "textposition": "auto",
         "type": "bar",
         "x": [
          "Wounds & Injuries"
         ],
         "xaxis": "x",
         "y": [
          0
         ],
         "yaxis": "y"
        },
        {
         "alignmentgroup": "True",
         "hovertemplate": "Cause of Mortality=%{x}<br>Month=Apr 1854<br>Annual rate of mortality (based on monthly rate)=%{y}<extra></extra>",
         "legendgroup": "All other causes",
         "marker": {
          "color": "#00cc96"
         },
         "name": "All other causes",
         "offsetgroup": "All other causes",
         "orientation": "v",
         "showlegend": true,
         "textposition": "auto",
         "type": "bar",
         "x": [
          "All other causes"
         ],
         "xaxis": "x",
         "y": [
          7
         ],
         "yaxis": "y"
        }
       ],
       "frames": [
        {
         "data": [
          {
           "alignmentgroup": "True",
           "hovertemplate": "Cause of Mortality=%{x}<br>Month=Apr 1854<br>Annual rate of mortality (based on monthly rate)=%{y}<extra></extra>",
           "legendgroup": "Zymotic Diseases",
           "marker": {
            "color": "#636efa"
           },
           "name": "Zymotic Diseases",
           "offsetgroup": "Zymotic Diseases",
           "orientation": "v",
           "showlegend": true,
           "textposition": "auto",
           "type": "bar",
           "x": [
            "Zymotic Diseases"
           ],
           "xaxis": "x",
           "y": [
            1.4
           ],
           "yaxis": "y"
          },
          {
           "alignmentgroup": "True",
           "hovertemplate": "Cause of Mortality=%{x}<br>Month=Apr 1854<br>Annual rate of mortality (based on monthly rate)=%{y}<extra></extra>",
           "legendgroup": "Wounds & Injuries",
           "marker": {
            "color": "#EF553B"
           },
           "name": "Wounds & Injuries",
           "offsetgroup": "Wounds & Injuries",
           "orientation": "v",
           "showlegend": true,
           "textposition": "auto",
           "type": "bar",
           "x": [
            "Wounds & Injuries"
           ],
           "xaxis": "x",
           "y": [
            0
           ],
           "yaxis": "y"
          },
          {
           "alignmentgroup": "True",
           "hovertemplate": "Cause of Mortality=%{x}<br>Month=Apr 1854<br>Annual rate of mortality (based on monthly rate)=%{y}<extra></extra>",
           "legendgroup": "All other causes",
           "marker": {
            "color": "#00cc96"
           },
           "name": "All other causes",
           "offsetgroup": "All other causes",
           "orientation": "v",
           "showlegend": true,
           "textposition": "auto",
           "type": "bar",
           "x": [
            "All other causes"
           ],
           "xaxis": "x",
           "y": [
            7
           ],
           "yaxis": "y"
          }
         ],
         "name": "Apr 1854"
        },
        {
         "data": [
          {
           "alignmentgroup": "True",
           "hovertemplate": "Cause of Mortality=%{x}<br>Month=May 1854<br>Annual rate of mortality (based on monthly rate)=%{y}<extra></extra>",
           "legendgroup": "Zymotic Diseases",
           "marker": {
            "color": "#636efa"
           },
           "name": "Zymotic Diseases",
           "offsetgroup": "Zymotic Diseases",
           "orientation": "v",
           "showlegend": true,
           "textposition": "auto",
           "type": "bar",
           "x": [
            "Zymotic Diseases"
           ],
           "xaxis": "x",
           "y": [
            6.2
           ],
           "yaxis": "y"
          },
          {
           "alignmentgroup": "True",
           "hovertemplate": "Cause of Mortality=%{x}<br>Month=May 1854<br>Annual rate of mortality (based on monthly rate)=%{y}<extra></extra>",
           "legendgroup": "Wounds & Injuries",
           "marker": {
            "color": "#EF553B"
           },
           "name": "Wounds & Injuries",
           "offsetgroup": "Wounds & Injuries",
           "orientation": "v",
           "showlegend": true,
           "textposition": "auto",
           "type": "bar",
           "x": [
            "Wounds & Injuries"
           ],
           "xaxis": "x",
           "y": [
            0
           ],
           "yaxis": "y"
          },
          {
           "alignmentgroup": "True",
           "hovertemplate": "Cause of Mortality=%{x}<br>Month=May 1854<br>Annual rate of mortality (based on monthly rate)=%{y}<extra></extra>",
           "legendgroup": "All other causes",
           "marker": {
            "color": "#00cc96"
           },
           "name": "All other causes",
           "offsetgroup": "All other causes",
           "orientation": "v",
           "showlegend": true,
           "textposition": "auto",
           "type": "bar",
           "x": [
            "All other causes"
           ],
           "xaxis": "x",
           "y": [
            4.6
           ],
           "yaxis": "y"
          }
         ],
         "name": "May 1854"
        },
        {
         "data": [
          {
           "alignmentgroup": "True",
           "hovertemplate": "Cause of Mortality=%{x}<br>Month=Jun 1854<br>Annual rate of mortality (based on monthly rate)=%{y}<extra></extra>",
           "legendgroup": "Zymotic Diseases",
           "marker": {
            "color": "#636efa"
           },
           "name": "Zymotic Diseases",
           "offsetgroup": "Zymotic Diseases",
           "orientation": "v",
           "showlegend": true,
           "textposition": "auto",
           "type": "bar",
           "x": [
            "Zymotic Diseases"
           ],
           "xaxis": "x",
           "y": [
            4.7
           ],
           "yaxis": "y"
          },
          {
           "alignmentgroup": "True",
           "hovertemplate": "Cause of Mortality=%{x}<br>Month=Jun 1854<br>Annual rate of mortality (based on monthly rate)=%{y}<extra></extra>",
           "legendgroup": "Wounds & Injuries",
           "marker": {
            "color": "#EF553B"
           },
           "name": "Wounds & Injuries",
           "offsetgroup": "Wounds & Injuries",
           "orientation": "v",
           "showlegend": true,
           "textposition": "auto",
           "type": "bar",
           "x": [
            "Wounds & Injuries"
           ],
           "xaxis": "x",
           "y": [
            0
           ],
           "yaxis": "y"
          },
          {
           "alignmentgroup": "True",
           "hovertemplate": "Cause of Mortality=%{x}<br>Month=Jun 1854<br>Annual rate of mortality (based on monthly rate)=%{y}<extra></extra>",
           "legendgroup": "All other causes",
           "marker": {
            "color": "#00cc96"
           },
           "name": "All other causes",
           "offsetgroup": "All other causes",
           "orientation": "v",
           "showlegend": true,
           "textposition": "auto",
           "type": "bar",
           "x": [
            "All other causes"
           ],
           "xaxis": "x",
           "y": [
            2.5
           ],
           "yaxis": "y"
          }
         ],
         "name": "Jun 1854"
        },
        {
         "data": [
          {
           "alignmentgroup": "True",
           "hovertemplate": "Cause of Mortality=%{x}<br>Month=Jul 1854<br>Annual rate of mortality (based on monthly rate)=%{y}<extra></extra>",
           "legendgroup": "Zymotic Diseases",
           "marker": {
            "color": "#636efa"
           },
           "name": "Zymotic Diseases",
           "offsetgroup": "Zymotic Diseases",
           "orientation": "v",
           "showlegend": true,
           "textposition": "auto",
           "type": "bar",
           "x": [
            "Zymotic Diseases"
           ],
           "xaxis": "x",
           "y": [
            150
           ],
           "yaxis": "y"
          },
          {
           "alignmentgroup": "True",
           "hovertemplate": "Cause of Mortality=%{x}<br>Month=Jul 1854<br>Annual rate of mortality (based on monthly rate)=%{y}<extra></extra>",
           "legendgroup": "Wounds & Injuries",
           "marker": {
            "color": "#EF553B"
           },
           "name": "Wounds & Injuries",
           "offsetgroup": "Wounds & Injuries",
           "orientation": "v",
           "showlegend": true,
           "textposition": "auto",
           "type": "bar",
           "x": [
            "Wounds & Injuries"
           ],
           "xaxis": "x",
           "y": [
            0
           ],
           "yaxis": "y"
          },
          {
           "alignmentgroup": "True",
           "hovertemplate": "Cause of Mortality=%{x}<br>Month=Jul 1854<br>Annual rate of mortality (based on monthly rate)=%{y}<extra></extra>",
           "legendgroup": "All other causes",
           "marker": {
            "color": "#00cc96"
           },
           "name": "All other causes",
           "offsetgroup": "All other causes",
           "orientation": "v",
           "showlegend": true,
           "textposition": "auto",
           "type": "bar",
           "x": [
            "All other causes"
           ],
           "xaxis": "x",
           "y": [
            9.6
           ],
           "yaxis": "y"
          }
         ],
         "name": "Jul 1854"
        },
        {
         "data": [
          {
           "alignmentgroup": "True",
           "hovertemplate": "Cause of Mortality=%{x}<br>Month=Aug 1854<br>Annual rate of mortality (based on monthly rate)=%{y}<extra></extra>",
           "legendgroup": "Zymotic Diseases",
           "marker": {
            "color": "#636efa"
           },
           "name": "Zymotic Diseases",
           "offsetgroup": "Zymotic Diseases",
           "orientation": "v",
           "showlegend": true,
           "textposition": "auto",
           "type": "bar",
           "x": [
            "Zymotic Diseases"
           ],
           "xaxis": "x",
           "y": [
            328.5
           ],
           "yaxis": "y"
          },
          {
           "alignmentgroup": "True",
           "hovertemplate": "Cause of Mortality=%{x}<br>Month=Aug 1854<br>Annual rate of mortality (based on monthly rate)=%{y}<extra></extra>",
           "legendgroup": "Wounds & Injuries",
           "marker": {
            "color": "#EF553B"
           },
           "name": "Wounds & Injuries",
           "offsetgroup": "Wounds & Injuries",
           "orientation": "v",
           "showlegend": true,
           "textposition": "auto",
           "type": "bar",
           "x": [
            "Wounds & Injuries"
           ],
           "xaxis": "x",
           "y": [
            0.4
           ],
           "yaxis": "y"
          },
          {
           "alignmentgroup": "True",
           "hovertemplate": "Cause of Mortality=%{x}<br>Month=Aug 1854<br>Annual rate of mortality (based on monthly rate)=%{y}<extra></extra>",
           "legendgroup": "All other causes",
           "marker": {
            "color": "#00cc96"
           },
           "name": "All other causes",
           "offsetgroup": "All other causes",
           "orientation": "v",
           "showlegend": true,
           "textposition": "auto",
           "type": "bar",
           "x": [
            "All other causes"
           ],
           "xaxis": "x",
           "y": [
            11.9
           ],
           "yaxis": "y"
          }
         ],
         "name": "Aug 1854"
        },
        {
         "data": [
          {
           "alignmentgroup": "True",
           "hovertemplate": "Cause of Mortality=%{x}<br>Month=Sep 1854<br>Annual rate of mortality (based on monthly rate)=%{y}<extra></extra>",
           "legendgroup": "Zymotic Diseases",
           "marker": {
            "color": "#636efa"
           },
           "name": "Zymotic Diseases",
           "offsetgroup": "Zymotic Diseases",
           "orientation": "v",
           "showlegend": true,
           "textposition": "auto",
           "type": "bar",
           "x": [
            "Zymotic Diseases"
           ],
           "xaxis": "x",
           "y": [
            312.2
           ],
           "yaxis": "y"
          },
          {
           "alignmentgroup": "True",
           "hovertemplate": "Cause of Mortality=%{x}<br>Month=Sep 1854<br>Annual rate of mortality (based on monthly rate)=%{y}<extra></extra>",
           "legendgroup": "Wounds & Injuries",
           "marker": {
            "color": "#EF553B"
           },
           "name": "Wounds & Injuries",
           "offsetgroup": "Wounds & Injuries",
           "orientation": "v",
           "showlegend": true,
           "textposition": "auto",
           "type": "bar",
           "x": [
            "Wounds & Injuries"
           ],
           "xaxis": "x",
           "y": [
            32.1
           ],
           "yaxis": "y"
          },
          {
           "alignmentgroup": "True",
           "hovertemplate": "Cause of Mortality=%{x}<br>Month=Sep 1854<br>Annual rate of mortality (based on monthly rate)=%{y}<extra></extra>",
           "legendgroup": "All other causes",
           "marker": {
            "color": "#00cc96"
           },
           "name": "All other causes",
           "offsetgroup": "All other causes",
           "orientation": "v",
           "showlegend": true,
           "textposition": "auto",
           "type": "bar",
           "x": [
            "All other causes"
           ],
           "xaxis": "x",
           "y": [
            27.7
           ],
           "yaxis": "y"
          }
         ],
         "name": "Sep 1854"
        },
        {
         "data": [
          {
           "alignmentgroup": "True",
           "hovertemplate": "Cause of Mortality=%{x}<br>Month=Oct 1854<br>Annual rate of mortality (based on monthly rate)=%{y}<extra></extra>",
           "legendgroup": "Zymotic Diseases",
           "marker": {
            "color": "#636efa"
           },
           "name": "Zymotic Diseases",
           "offsetgroup": "Zymotic Diseases",
           "orientation": "v",
           "showlegend": true,
           "textposition": "auto",
           "type": "bar",
           "x": [
            "Zymotic Diseases"
           ],
           "xaxis": "x",
           "y": [
            197
           ],
           "yaxis": "y"
          },
          {
           "alignmentgroup": "True",
           "hovertemplate": "Cause of Mortality=%{x}<br>Month=Oct 1854<br>Annual rate of mortality (based on monthly rate)=%{y}<extra></extra>",
           "legendgroup": "Wounds & Injuries",
           "marker": {
            "color": "#EF553B"
           },
           "name": "Wounds & Injuries",
           "offsetgroup": "Wounds & Injuries",
           "orientation": "v",
           "showlegend": true,
           "textposition": "auto",
           "type": "bar",
           "x": [
            "Wounds & Injuries"
           ],
           "xaxis": "x",
           "y": [
            51.7
           ],
           "yaxis": "y"
          },
          {
           "alignmentgroup": "True",
           "hovertemplate": "Cause of Mortality=%{x}<br>Month=Oct 1854<br>Annual rate of mortality (based on monthly rate)=%{y}<extra></extra>",
           "legendgroup": "All other causes",
           "marker": {
            "color": "#00cc96"
           },
           "name": "All other causes",
           "offsetgroup": "All other causes",
           "orientation": "v",
           "showlegend": true,
           "textposition": "auto",
           "type": "bar",
           "x": [
            "All other causes"
           ],
           "xaxis": "x",
           "y": [
            50.1
           ],
           "yaxis": "y"
          }
         ],
         "name": "Oct 1854"
        },
        {
         "data": [
          {
           "alignmentgroup": "True",
           "hovertemplate": "Cause of Mortality=%{x}<br>Month=Nov 1854<br>Annual rate of mortality (based on monthly rate)=%{y}<extra></extra>",
           "legendgroup": "Zymotic Diseases",
           "marker": {
            "color": "#636efa"
           },
           "name": "Zymotic Diseases",
           "offsetgroup": "Zymotic Diseases",
           "orientation": "v",
           "showlegend": true,
           "textposition": "auto",
           "type": "bar",
           "x": [
            "Zymotic Diseases"
           ],
           "xaxis": "x",
           "y": [
            340.6
           ],
           "yaxis": "y"
          },
          {
           "alignmentgroup": "True",
           "hovertemplate": "Cause of Mortality=%{x}<br>Month=Nov 1854<br>Annual rate of mortality (based on monthly rate)=%{y}<extra></extra>",
           "legendgroup": "Wounds & Injuries",
           "marker": {
            "color": "#EF553B"
           },
           "name": "Wounds & Injuries",
           "offsetgroup": "Wounds & Injuries",
           "orientation": "v",
           "showlegend": true,
           "textposition": "auto",
           "type": "bar",
           "x": [
            "Wounds & Injuries"
           ],
           "xaxis": "x",
           "y": [
            115.8
           ],
           "yaxis": "y"
          },
          {
           "alignmentgroup": "True",
           "hovertemplate": "Cause of Mortality=%{x}<br>Month=Nov 1854<br>Annual rate of mortality (based on monthly rate)=%{y}<extra></extra>",
           "legendgroup": "All other causes",
           "marker": {
            "color": "#00cc96"
           },
           "name": "All other causes",
           "offsetgroup": "All other causes",
           "orientation": "v",
           "showlegend": true,
           "textposition": "auto",
           "type": "bar",
           "x": [
            "All other causes"
           ],
           "xaxis": "x",
           "y": [
            42.8
           ],
           "yaxis": "y"
          }
         ],
         "name": "Nov 1854"
        },
        {
         "data": [
          {
           "alignmentgroup": "True",
           "hovertemplate": "Cause of Mortality=%{x}<br>Month=Dec 1854<br>Annual rate of mortality (based on monthly rate)=%{y}<extra></extra>",
           "legendgroup": "Zymotic Diseases",
           "marker": {
            "color": "#636efa"
           },
           "name": "Zymotic Diseases",
           "offsetgroup": "Zymotic Diseases",
           "orientation": "v",
           "showlegend": true,
           "textposition": "auto",
           "type": "bar",
           "x": [
            "Zymotic Diseases"
           ],
           "xaxis": "x",
           "y": [
            631.5
           ],
           "yaxis": "y"
          },
          {
           "alignmentgroup": "True",
           "hovertemplate": "Cause of Mortality=%{x}<br>Month=Dec 1854<br>Annual rate of mortality (based on monthly rate)=%{y}<extra></extra>",
           "legendgroup": "Wounds & Injuries",
           "marker": {
            "color": "#EF553B"
           },
           "name": "Wounds & Injuries",
           "offsetgroup": "Wounds & Injuries",
           "orientation": "v",
           "showlegend": true,
           "textposition": "auto",
           "type": "bar",
           "x": [
            "Wounds & Injuries"
           ],
           "xaxis": "x",
           "y": [
            41.7
           ],
           "yaxis": "y"
          },
          {
           "alignmentgroup": "True",
           "hovertemplate": "Cause of Mortality=%{x}<br>Month=Dec 1854<br>Annual rate of mortality (based on monthly rate)=%{y}<extra></extra>",
           "legendgroup": "All other causes",
           "marker": {
            "color": "#00cc96"
           },
           "name": "All other causes",
           "offsetgroup": "All other causes",
           "orientation": "v",
           "showlegend": true,
           "textposition": "auto",
           "type": "bar",
           "x": [
            "All other causes"
           ],
           "xaxis": "x",
           "y": [
            48
           ],
           "yaxis": "y"
          }
         ],
         "name": "Dec 1854"
        },
        {
         "data": [
          {
           "alignmentgroup": "True",
           "hovertemplate": "Cause of Mortality=%{x}<br>Month=Jan 1855<br>Annual rate of mortality (based on monthly rate)=%{y}<extra></extra>",
           "legendgroup": "Zymotic Diseases",
           "marker": {
            "color": "#636efa"
           },
           "name": "Zymotic Diseases",
           "offsetgroup": "Zymotic Diseases",
           "orientation": "v",
           "showlegend": true,
           "textposition": "auto",
           "type": "bar",
           "x": [
            "Zymotic Diseases"
           ],
           "xaxis": "x",
           "y": [
            1022.8
           ],
           "yaxis": "y"
          },
          {
           "alignmentgroup": "True",
           "hovertemplate": "Cause of Mortality=%{x}<br>Month=Jan 1855<br>Annual rate of mortality (based on monthly rate)=%{y}<extra></extra>",
           "legendgroup": "Wounds & Injuries",
           "marker": {
            "color": "#EF553B"
           },
           "name": "Wounds & Injuries",
           "offsetgroup": "Wounds & Injuries",
           "orientation": "v",
           "showlegend": true,
           "textposition": "auto",
           "type": "bar",
           "x": [
            "Wounds & Injuries"
           ],
           "xaxis": "x",
           "y": [
            30.7
           ],
           "yaxis": "y"
          },
          {
           "alignmentgroup": "True",
           "hovertemplate": "Cause of Mortality=%{x}<br>Month=Jan 1855<br>Annual rate of mortality (based on monthly rate)=%{y}<extra></extra>",
           "legendgroup": "All other causes",
           "marker": {
            "color": "#00cc96"
           },
           "name": "All other causes",
           "offsetgroup": "All other causes",
           "orientation": "v",
           "showlegend": true,
           "textposition": "auto",
           "type": "bar",
           "x": [
            "All other causes"
           ],
           "xaxis": "x",
           "y": [
            120
           ],
           "yaxis": "y"
          }
         ],
         "name": "Jan 1855"
        },
        {
         "data": [
          {
           "alignmentgroup": "True",
           "hovertemplate": "Cause of Mortality=%{x}<br>Month=Feb 1855<br>Annual rate of mortality (based on monthly rate)=%{y}<extra></extra>",
           "legendgroup": "Zymotic Diseases",
           "marker": {
            "color": "#636efa"
           },
           "name": "Zymotic Diseases",
           "offsetgroup": "Zymotic Diseases",
           "orientation": "v",
           "showlegend": true,
           "textposition": "auto",
           "type": "bar",
           "x": [
            "Zymotic Diseases"
           ],
           "xaxis": "x",
           "y": [
            822.8
           ],
           "yaxis": "y"
          },
          {
           "alignmentgroup": "True",
           "hovertemplate": "Cause of Mortality=%{x}<br>Month=Feb 1855<br>Annual rate of mortality (based on monthly rate)=%{y}<extra></extra>",
           "legendgroup": "Wounds & Injuries",
           "marker": {
            "color": "#EF553B"
           },
           "name": "Wounds & Injuries",
           "offsetgroup": "Wounds & Injuries",
           "orientation": "v",
           "showlegend": true,
           "textposition": "auto",
           "type": "bar",
           "x": [
            "Wounds & Injuries"
           ],
           "xaxis": "x",
           "y": [
            16.3
           ],
           "yaxis": "y"
          },
          {
           "alignmentgroup": "True",
           "hovertemplate": "Cause of Mortality=%{x}<br>Month=Feb 1855<br>Annual rate of mortality (based on monthly rate)=%{y}<extra></extra>",
           "legendgroup": "All other causes",
           "marker": {
            "color": "#00cc96"
           },
           "name": "All other causes",
           "offsetgroup": "All other causes",
           "orientation": "v",
           "showlegend": true,
           "textposition": "auto",
           "type": "bar",
           "x": [
            "All other causes"
           ],
           "xaxis": "x",
           "y": [
            140.1
           ],
           "yaxis": "y"
          }
         ],
         "name": "Feb 1855"
        },
        {
         "data": [
          {
           "alignmentgroup": "True",
           "hovertemplate": "Cause of Mortality=%{x}<br>Month=Mar 1855<br>Annual rate of mortality (based on monthly rate)=%{y}<extra></extra>",
           "legendgroup": "Zymotic Diseases",
           "marker": {
            "color": "#636efa"
           },
           "name": "Zymotic Diseases",
           "offsetgroup": "Zymotic Diseases",
           "orientation": "v",
           "showlegend": true,
           "textposition": "auto",
           "type": "bar",
           "x": [
            "Zymotic Diseases"
           ],
           "xaxis": "x",
           "y": [
            480.3
           ],
           "yaxis": "y"
          },
          {
           "alignmentgroup": "True",
           "hovertemplate": "Cause of Mortality=%{x}<br>Month=Mar 1855<br>Annual rate of mortality (based on monthly rate)=%{y}<extra></extra>",
           "legendgroup": "Wounds & Injuries",
           "marker": {
            "color": "#EF553B"
           },
           "name": "Wounds & Injuries",
           "offsetgroup": "Wounds & Injuries",
           "orientation": "v",
           "showlegend": true,
           "textposition": "auto",
           "type": "bar",
           "x": [
            "Wounds & Injuries"
           ],
           "xaxis": "x",
           "y": [
            12.8
           ],
           "yaxis": "y"
          },
          {
           "alignmentgroup": "True",
           "hovertemplate": "Cause of Mortality=%{x}<br>Month=Mar 1855<br>Annual rate of mortality (based on monthly rate)=%{y}<extra></extra>",
           "legendgroup": "All other causes",
           "marker": {
            "color": "#00cc96"
           },
           "name": "All other causes",
           "offsetgroup": "All other causes",
           "orientation": "v",
           "showlegend": true,
           "textposition": "auto",
           "type": "bar",
           "x": [
            "All other causes"
           ],
           "xaxis": "x",
           "y": [
            68.6
           ],
           "yaxis": "y"
          }
         ],
         "name": "Mar 1855"
        },
        {
         "data": [
          {
           "alignmentgroup": "True",
           "hovertemplate": "Cause of Mortality=%{x}<br>Month=Apr 1855<br>Annual rate of mortality (based on monthly rate)=%{y}<extra></extra>",
           "legendgroup": "Zymotic Diseases",
           "marker": {
            "color": "#636efa"
           },
           "name": "Zymotic Diseases",
           "offsetgroup": "Zymotic Diseases",
           "orientation": "v",
           "showlegend": true,
           "textposition": "auto",
           "type": "bar",
           "x": [
            "Zymotic Diseases"
           ],
           "xaxis": "x",
           "y": [
            177.5
           ],
           "yaxis": "y"
          },
          {
           "alignmentgroup": "True",
           "hovertemplate": "Cause of Mortality=%{x}<br>Month=Apr 1855<br>Annual rate of mortality (based on monthly rate)=%{y}<extra></extra>",
           "legendgroup": "Wounds & Injuries",
           "marker": {
            "color": "#EF553B"
           },
           "name": "Wounds & Injuries",
           "offsetgroup": "Wounds & Injuries",
           "orientation": "v",
           "showlegend": true,
           "textposition": "auto",
           "type": "bar",
           "x": [
            "Wounds & Injuries"
           ],
           "xaxis": "x",
           "y": [
            17.9
           ],
           "yaxis": "y"
          },
          {
           "alignmentgroup": "True",
           "hovertemplate": "Cause of Mortality=%{x}<br>Month=Apr 1855<br>Annual rate of mortality (based on monthly rate)=%{y}<extra></extra>",
           "legendgroup": "All other causes",
           "marker": {
            "color": "#00cc96"
           },
           "name": "All other causes",
           "offsetgroup": "All other causes",
           "orientation": "v",
           "showlegend": true,
           "textposition": "auto",
           "type": "bar",
           "x": [
            "All other causes"
           ],
           "xaxis": "x",
           "y": [
            21.2
           ],
           "yaxis": "y"
          }
         ],
         "name": "Apr 1855"
        },
        {
         "data": [
          {
           "alignmentgroup": "True",
           "hovertemplate": "Cause of Mortality=%{x}<br>Month=May 1855<br>Annual rate of mortality (based on monthly rate)=%{y}<extra></extra>",
           "legendgroup": "Zymotic Diseases",
           "marker": {
            "color": "#636efa"
           },
           "name": "Zymotic Diseases",
           "offsetgroup": "Zymotic Diseases",
           "orientation": "v",
           "showlegend": true,
           "textposition": "auto",
           "type": "bar",
           "x": [
            "Zymotic Diseases"
           ],
           "xaxis": "x",
           "y": [
            171.8
           ],
           "yaxis": "y"
          },
          {
           "alignmentgroup": "True",
           "hovertemplate": "Cause of Mortality=%{x}<br>Month=May 1855<br>Annual rate of mortality (based on monthly rate)=%{y}<extra></extra>",
           "legendgroup": "Wounds & Injuries",
           "marker": {
            "color": "#EF553B"
           },
           "name": "Wounds & Injuries",
           "offsetgroup": "Wounds & Injuries",
           "orientation": "v",
           "showlegend": true,
           "textposition": "auto",
           "type": "bar",
           "x": [
            "Wounds & Injuries"
           ],
           "xaxis": "x",
           "y": [
            16.6
           ],
           "yaxis": "y"
          },
          {
           "alignmentgroup": "True",
           "hovertemplate": "Cause of Mortality=%{x}<br>Month=May 1855<br>Annual rate of mortality (based on monthly rate)=%{y}<extra></extra>",
           "legendgroup": "All other causes",
           "marker": {
            "color": "#00cc96"
           },
           "name": "All other causes",
           "offsetgroup": "All other causes",
           "orientation": "v",
           "showlegend": true,
           "textposition": "auto",
           "type": "bar",
           "x": [
            "All other causes"
           ],
           "xaxis": "x",
           "y": [
            12.5
           ],
           "yaxis": "y"
          }
         ],
         "name": "May 1855"
        },
        {
         "data": [
          {
           "alignmentgroup": "True",
           "hovertemplate": "Cause of Mortality=%{x}<br>Month=Jun 1855<br>Annual rate of mortality (based on monthly rate)=%{y}<extra></extra>",
           "legendgroup": "Zymotic Diseases",
           "marker": {
            "color": "#636efa"
           },
           "name": "Zymotic Diseases",
           "offsetgroup": "Zymotic Diseases",
           "orientation": "v",
           "showlegend": true,
           "textposition": "auto",
           "type": "bar",
           "x": [
            "Zymotic Diseases"
           ],
           "xaxis": "x",
           "y": [
            247.6
           ],
           "yaxis": "y"
          },
          {
           "alignmentgroup": "True",
           "hovertemplate": "Cause of Mortality=%{x}<br>Month=Jun 1855<br>Annual rate of mortality (based on monthly rate)=%{y}<extra></extra>",
           "legendgroup": "Wounds & Injuries",
           "marker": {
            "color": "#EF553B"
           },
           "name": "Wounds & Injuries",
           "offsetgroup": "Wounds & Injuries",
           "orientation": "v",
           "showlegend": true,
           "textposition": "auto",
           "type": "bar",
           "x": [
            "Wounds & Injuries"
           ],
           "xaxis": "x",
           "y": [
            64.5
           ],
           "yaxis": "y"
          },
          {
           "alignmentgroup": "True",
           "hovertemplate": "Cause of Mortality=%{x}<br>Month=Jun 1855<br>Annual rate of mortality (based on monthly rate)=%{y}<extra></extra>",
           "legendgroup": "All other causes",
           "marker": {
            "color": "#00cc96"
           },
           "name": "All other causes",
           "offsetgroup": "All other causes",
           "orientation": "v",
           "showlegend": true,
           "textposition": "auto",
           "type": "bar",
           "x": [
            "All other causes"
           ],
           "xaxis": "x",
           "y": [
            9.6
           ],
           "yaxis": "y"
          }
         ],
         "name": "Jun 1855"
        },
        {
         "data": [
          {
           "alignmentgroup": "True",
           "hovertemplate": "Cause of Mortality=%{x}<br>Month=Jul 1855<br>Annual rate of mortality (based on monthly rate)=%{y}<extra></extra>",
           "legendgroup": "Zymotic Diseases",
           "marker": {
            "color": "#636efa"
           },
           "name": "Zymotic Diseases",
           "offsetgroup": "Zymotic Diseases",
           "orientation": "v",
           "showlegend": true,
           "textposition": "auto",
           "type": "bar",
           "x": [
            "Zymotic Diseases"
           ],
           "xaxis": "x",
           "y": [
            107.5
           ],
           "yaxis": "y"
          },
          {
           "alignmentgroup": "True",
           "hovertemplate": "Cause of Mortality=%{x}<br>Month=Jul 1855<br>Annual rate of mortality (based on monthly rate)=%{y}<extra></extra>",
           "legendgroup": "Wounds & Injuries",
           "marker": {
            "color": "#EF553B"
           },
           "name": "Wounds & Injuries",
           "offsetgroup": "Wounds & Injuries",
           "orientation": "v",
           "showlegend": true,
           "textposition": "auto",
           "type": "bar",
           "x": [
            "Wounds & Injuries"
           ],
           "xaxis": "x",
           "y": [
            37.7
           ],
           "yaxis": "y"
          },
          {
           "alignmentgroup": "True",
           "hovertemplate": "Cause of Mortality=%{x}<br>Month=Jul 1855<br>Annual rate of mortality (based on monthly rate)=%{y}<extra></extra>",
           "legendgroup": "All other causes",
           "marker": {
            "color": "#00cc96"
           },
           "name": "All other causes",
           "offsetgroup": "All other causes",
           "orientation": "v",
           "showlegend": true,
           "textposition": "auto",
           "type": "bar",
           "x": [
            "All other causes"
           ],
           "xaxis": "x",
           "y": [
            9.3
           ],
           "yaxis": "y"
          }
         ],
         "name": "Jul 1855"
        },
        {
         "data": [
          {
           "alignmentgroup": "True",
           "hovertemplate": "Cause of Mortality=%{x}<br>Month=Aug 1855<br>Annual rate of mortality (based on monthly rate)=%{y}<extra></extra>",
           "legendgroup": "Zymotic Diseases",
           "marker": {
            "color": "#636efa"
           },
           "name": "Zymotic Diseases",
           "offsetgroup": "Zymotic Diseases",
           "orientation": "v",
           "showlegend": true,
           "textposition": "auto",
           "type": "bar",
           "x": [
            "Zymotic Diseases"
           ],
           "xaxis": "x",
           "y": [
            129.9
           ],
           "yaxis": "y"
          },
          {
           "alignmentgroup": "True",
           "hovertemplate": "Cause of Mortality=%{x}<br>Month=Aug 1855<br>Annual rate of mortality (based on monthly rate)=%{y}<extra></extra>",
           "legendgroup": "Wounds & Injuries",
           "marker": {
            "color": "#EF553B"
           },
           "name": "Wounds & Injuries",
           "offsetgroup": "Wounds & Injuries",
           "orientation": "v",
           "showlegend": true,
           "textposition": "auto",
           "type": "bar",
           "x": [
            "Wounds & Injuries"
           ],
           "xaxis": "x",
           "y": [
            44.1
           ],
           "yaxis": "y"
          },
          {
           "alignmentgroup": "True",
           "hovertemplate": "Cause of Mortality=%{x}<br>Month=Aug 1855<br>Annual rate of mortality (based on monthly rate)=%{y}<extra></extra>",
           "legendgroup": "All other causes",
           "marker": {
            "color": "#00cc96"
           },
           "name": "All other causes",
           "offsetgroup": "All other causes",
           "orientation": "v",
           "showlegend": true,
           "textposition": "auto",
           "type": "bar",
           "x": [
            "All other causes"
           ],
           "xaxis": "x",
           "y": [
            6.7
           ],
           "yaxis": "y"
          }
         ],
         "name": "Aug 1855"
        },
        {
         "data": [
          {
           "alignmentgroup": "True",
           "hovertemplate": "Cause of Mortality=%{x}<br>Month=Sep 1855<br>Annual rate of mortality (based on monthly rate)=%{y}<extra></extra>",
           "legendgroup": "Zymotic Diseases",
           "marker": {
            "color": "#636efa"
           },
           "name": "Zymotic Diseases",
           "offsetgroup": "Zymotic Diseases",
           "orientation": "v",
           "showlegend": true,
           "textposition": "auto",
           "type": "bar",
           "x": [
            "Zymotic Diseases"
           ],
           "xaxis": "x",
           "y": [
            47.5
           ],
           "yaxis": "y"
          },
          {
           "alignmentgroup": "True",
           "hovertemplate": "Cause of Mortality=%{x}<br>Month=Sep 1855<br>Annual rate of mortality (based on monthly rate)=%{y}<extra></extra>",
           "legendgroup": "Wounds & Injuries",
           "marker": {
            "color": "#EF553B"
           },
           "name": "Wounds & Injuries",
           "offsetgroup": "Wounds & Injuries",
           "orientation": "v",
           "showlegend": true,
           "textposition": "auto",
           "type": "bar",
           "x": [
            "Wounds & Injuries"
           ],
           "xaxis": "x",
           "y": [
            69.4
           ],
           "yaxis": "y"
          },
          {
           "alignmentgroup": "True",
           "hovertemplate": "Cause of Mortality=%{x}<br>Month=Sep 1855<br>Annual rate of mortality (based on monthly rate)=%{y}<extra></extra>",
           "legendgroup": "All other causes",
           "marker": {
            "color": "#00cc96"
           },
           "name": "All other causes",
           "offsetgroup": "All other causes",
           "orientation": "v",
           "showlegend": true,
           "textposition": "auto",
           "type": "bar",
           "x": [
            "All other causes"
           ],
           "xaxis": "x",
           "y": [
            5
           ],
           "yaxis": "y"
          }
         ],
         "name": "Sep 1855"
        },
        {
         "data": [
          {
           "alignmentgroup": "True",
           "hovertemplate": "Cause of Mortality=%{x}<br>Month=Oct 1855<br>Annual rate of mortality (based on monthly rate)=%{y}<extra></extra>",
           "legendgroup": "Zymotic Diseases",
           "marker": {
            "color": "#636efa"
           },
           "name": "Zymotic Diseases",
           "offsetgroup": "Zymotic Diseases",
           "orientation": "v",
           "showlegend": true,
           "textposition": "auto",
           "type": "bar",
           "x": [
            "Zymotic Diseases"
           ],
           "xaxis": "x",
           "y": [
            32.8
           ],
           "yaxis": "y"
          },
          {
           "alignmentgroup": "True",
           "hovertemplate": "Cause of Mortality=%{x}<br>Month=Oct 1855<br>Annual rate of mortality (based on monthly rate)=%{y}<extra></extra>",
           "legendgroup": "Wounds & Injuries",
           "marker": {
            "color": "#EF553B"
           },
           "name": "Wounds & Injuries",
           "offsetgroup": "Wounds & Injuries",
           "orientation": "v",
           "showlegend": true,
           "textposition": "auto",
           "type": "bar",
           "x": [
            "Wounds & Injuries"
           ],
           "xaxis": "x",
           "y": [
            13.6
           ],
           "yaxis": "y"
          },
          {
           "alignmentgroup": "True",
           "hovertemplate": "Cause of Mortality=%{x}<br>Month=Oct 1855<br>Annual rate of mortality (based on monthly rate)=%{y}<extra></extra>",
           "legendgroup": "All other causes",
           "marker": {
            "color": "#00cc96"
           },
           "name": "All other causes",
           "offsetgroup": "All other causes",
           "orientation": "v",
           "showlegend": true,
           "textposition": "auto",
           "type": "bar",
           "x": [
            "All other causes"
           ],
           "xaxis": "x",
           "y": [
            4.6
           ],
           "yaxis": "y"
          }
         ],
         "name": "Oct 1855"
        },
        {
         "data": [
          {
           "alignmentgroup": "True",
           "hovertemplate": "Cause of Mortality=%{x}<br>Month=Nov 1855<br>Annual rate of mortality (based on monthly rate)=%{y}<extra></extra>",
           "legendgroup": "Zymotic Diseases",
           "marker": {
            "color": "#636efa"
           },
           "name": "Zymotic Diseases",
           "offsetgroup": "Zymotic Diseases",
           "orientation": "v",
           "showlegend": true,
           "textposition": "auto",
           "type": "bar",
           "x": [
            "Zymotic Diseases"
           ],
           "xaxis": "x",
           "y": [
            56.4
           ],
           "yaxis": "y"
          },
          {
           "alignmentgroup": "True",
           "hovertemplate": "Cause of Mortality=%{x}<br>Month=Nov 1855<br>Annual rate of mortality (based on monthly rate)=%{y}<extra></extra>",
           "legendgroup": "Wounds & Injuries",
           "marker": {
            "color": "#EF553B"
           },
           "name": "Wounds & Injuries",
           "offsetgroup": "Wounds & Injuries",
           "orientation": "v",
           "showlegend": true,
           "textposition": "auto",
           "type": "bar",
           "x": [
            "Wounds & Injuries"
           ],
           "xaxis": "x",
           "y": [
            10.5
           ],
           "yaxis": "y"
          },
          {
           "alignmentgroup": "True",
           "hovertemplate": "Cause of Mortality=%{x}<br>Month=Nov 1855<br>Annual rate of mortality (based on monthly rate)=%{y}<extra></extra>",
           "legendgroup": "All other causes",
           "marker": {
            "color": "#00cc96"
           },
           "name": "All other causes",
           "offsetgroup": "All other causes",
           "orientation": "v",
           "showlegend": true,
           "textposition": "auto",
           "type": "bar",
           "x": [
            "All other causes"
           ],
           "xaxis": "x",
           "y": [
            10.1
           ],
           "yaxis": "y"
          }
         ],
         "name": "Nov 1855"
        },
        {
         "data": [
          {
           "alignmentgroup": "True",
           "hovertemplate": "Cause of Mortality=%{x}<br>Month=Dec 1855<br>Annual rate of mortality (based on monthly rate)=%{y}<extra></extra>",
           "legendgroup": "Zymotic Diseases",
           "marker": {
            "color": "#636efa"
           },
           "name": "Zymotic Diseases",
           "offsetgroup": "Zymotic Diseases",
           "orientation": "v",
           "showlegend": true,
           "textposition": "auto",
           "type": "bar",
           "x": [
            "Zymotic Diseases"
           ],
           "xaxis": "x",
           "y": [
            25.3
           ],
           "yaxis": "y"
          },
          {
           "alignmentgroup": "True",
           "hovertemplate": "Cause of Mortality=%{x}<br>Month=Dec 1855<br>Annual rate of mortality (based on monthly rate)=%{y}<extra></extra>",
           "legendgroup": "Wounds & Injuries",
           "marker": {
            "color": "#EF553B"
           },
           "name": "Wounds & Injuries",
           "offsetgroup": "Wounds & Injuries",
           "orientation": "v",
           "showlegend": true,
           "textposition": "auto",
           "type": "bar",
           "x": [
            "Wounds & Injuries"
           ],
           "xaxis": "x",
           "y": [
            5
           ],
           "yaxis": "y"
          },
          {
           "alignmentgroup": "True",
           "hovertemplate": "Cause of Mortality=%{x}<br>Month=Dec 1855<br>Annual rate of mortality (based on monthly rate)=%{y}<extra></extra>",
           "legendgroup": "All other causes",
           "marker": {
            "color": "#00cc96"
           },
           "name": "All other causes",
           "offsetgroup": "All other causes",
           "orientation": "v",
           "showlegend": true,
           "textposition": "auto",
           "type": "bar",
           "x": [
            "All other causes"
           ],
           "xaxis": "x",
           "y": [
            7.8
           ],
           "yaxis": "y"
          }
         ],
         "name": "Dec 1855"
        },
        {
         "data": [
          {
           "alignmentgroup": "True",
           "hovertemplate": "Cause of Mortality=%{x}<br>Month=Jan 1856<br>Annual rate of mortality (based on monthly rate)=%{y}<extra></extra>",
           "legendgroup": "Zymotic Diseases",
           "marker": {
            "color": "#636efa"
           },
           "name": "Zymotic Diseases",
           "offsetgroup": "Zymotic Diseases",
           "orientation": "v",
           "showlegend": true,
           "textposition": "auto",
           "type": "bar",
           "x": [
            "Zymotic Diseases"
           ],
           "xaxis": "x",
           "y": [
            11.4
           ],
           "yaxis": "y"
          },
          {
           "alignmentgroup": "True",
           "hovertemplate": "Cause of Mortality=%{x}<br>Month=Jan 1856<br>Annual rate of mortality (based on monthly rate)=%{y}<extra></extra>",
           "legendgroup": "Wounds & Injuries",
           "marker": {
            "color": "#EF553B"
           },
           "name": "Wounds & Injuries",
           "offsetgroup": "Wounds & Injuries",
           "orientation": "v",
           "showlegend": true,
           "textposition": "auto",
           "type": "bar",
           "x": [
            "Wounds & Injuries"
           ],
           "xaxis": "x",
           "y": [
            0.5
           ],
           "yaxis": "y"
          },
          {
           "alignmentgroup": "True",
           "hovertemplate": "Cause of Mortality=%{x}<br>Month=Jan 1856<br>Annual rate of mortality (based on monthly rate)=%{y}<extra></extra>",
           "legendgroup": "All other causes",
           "marker": {
            "color": "#00cc96"
           },
           "name": "All other causes",
           "offsetgroup": "All other causes",
           "orientation": "v",
           "showlegend": true,
           "textposition": "auto",
           "type": "bar",
           "x": [
            "All other causes"
           ],
           "xaxis": "x",
           "y": [
            13
           ],
           "yaxis": "y"
          }
         ],
         "name": "Jan 1856"
        },
        {
         "data": [
          {
           "alignmentgroup": "True",
           "hovertemplate": "Cause of Mortality=%{x}<br>Month=Feb 1856<br>Annual rate of mortality (based on monthly rate)=%{y}<extra></extra>",
           "legendgroup": "Zymotic Diseases",
           "marker": {
            "color": "#636efa"
           },
           "name": "Zymotic Diseases",
           "offsetgroup": "Zymotic Diseases",
           "orientation": "v",
           "showlegend": true,
           "textposition": "auto",
           "type": "bar",
           "x": [
            "Zymotic Diseases"
           ],
           "xaxis": "x",
           "y": [
            6.6
           ],
           "yaxis": "y"
          },
          {
           "alignmentgroup": "True",
           "hovertemplate": "Cause of Mortality=%{x}<br>Month=Feb 1856<br>Annual rate of mortality (based on monthly rate)=%{y}<extra></extra>",
           "legendgroup": "Wounds & Injuries",
           "marker": {
            "color": "#EF553B"
           },
           "name": "Wounds & Injuries",
           "offsetgroup": "Wounds & Injuries",
           "orientation": "v",
           "showlegend": true,
           "textposition": "auto",
           "type": "bar",
           "x": [
            "Wounds & Injuries"
           ],
           "xaxis": "x",
           "y": [
            0
           ],
           "yaxis": "y"
          },
          {
           "alignmentgroup": "True",
           "hovertemplate": "Cause of Mortality=%{x}<br>Month=Feb 1856<br>Annual rate of mortality (based on monthly rate)=%{y}<extra></extra>",
           "legendgroup": "All other causes",
           "marker": {
            "color": "#00cc96"
           },
           "name": "All other causes",
           "offsetgroup": "All other causes",
           "orientation": "v",
           "showlegend": true,
           "textposition": "auto",
           "type": "bar",
           "x": [
            "All other causes"
           ],
           "xaxis": "x",
           "y": [
            5.2
           ],
           "yaxis": "y"
          }
         ],
         "name": "Feb 1856"
        },
        {
         "data": [
          {
           "alignmentgroup": "True",
           "hovertemplate": "Cause of Mortality=%{x}<br>Month=Mar 1856<br>Annual rate of mortality (based on monthly rate)=%{y}<extra></extra>",
           "legendgroup": "Zymotic Diseases",
           "marker": {
            "color": "#636efa"
           },
           "name": "Zymotic Diseases",
           "offsetgroup": "Zymotic Diseases",
           "orientation": "v",
           "showlegend": true,
           "textposition": "auto",
           "type": "bar",
           "x": [
            "Zymotic Diseases"
           ],
           "xaxis": "x",
           "y": [
            3.9
           ],
           "yaxis": "y"
          },
          {
           "alignmentgroup": "True",
           "hovertemplate": "Cause of Mortality=%{x}<br>Month=Mar 1856<br>Annual rate of mortality (based on monthly rate)=%{y}<extra></extra>",
           "legendgroup": "Wounds & Injuries",
           "marker": {
            "color": "#EF553B"
           },
           "name": "Wounds & Injuries",
           "offsetgroup": "Wounds & Injuries",
           "orientation": "v",
           "showlegend": true,
           "textposition": "auto",
           "type": "bar",
           "x": [
            "Wounds & Injuries"
           ],
           "xaxis": "x",
           "y": [
            0
           ],
           "yaxis": "y"
          },
          {
           "alignmentgroup": "True",
           "hovertemplate": "Cause of Mortality=%{x}<br>Month=Mar 1856<br>Annual rate of mortality (based on monthly rate)=%{y}<extra></extra>",
           "legendgroup": "All other causes",
           "marker": {
            "color": "#00cc96"
           },
           "name": "All other causes",
           "offsetgroup": "All other causes",
           "orientation": "v",
           "showlegend": true,
           "textposition": "auto",
           "type": "bar",
           "x": [
            "All other causes"
           ],
           "xaxis": "x",
           "y": [
            9.1
           ],
           "yaxis": "y"
          }
         ],
         "name": "Mar 1856"
        }
       ],
       "layout": {
        "barmode": "relative",
        "legend": {
         "title": {
          "text": "Cause of Mortality"
         },
         "tracegroupgap": 0
        },
        "sliders": [
         {
          "active": 0,
          "currentvalue": {
           "prefix": "Month="
          },
          "len": 0.9,
          "pad": {
           "b": 10,
           "t": 60
          },
          "steps": [
           {
            "args": [
             [
              "Apr 1854"
             ],
             {
              "frame": {
               "duration": 0,
               "redraw": true
              },
              "fromcurrent": true,
              "mode": "immediate",
              "transition": {
               "duration": 0,
               "easing": "linear"
              }
             }
            ],
            "label": "Apr 1854",
            "method": "animate"
           },
           {
            "args": [
             [
              "May 1854"
             ],
             {
              "frame": {
               "duration": 0,
               "redraw": true
              },
              "fromcurrent": true,
              "mode": "immediate",
              "transition": {
               "duration": 0,
               "easing": "linear"
              }
             }
            ],
            "label": "May 1854",
            "method": "animate"
           },
           {
            "args": [
             [
              "Jun 1854"
             ],
             {
              "frame": {
               "duration": 0,
               "redraw": true
              },
              "fromcurrent": true,
              "mode": "immediate",
              "transition": {
               "duration": 0,
               "easing": "linear"
              }
             }
            ],
            "label": "Jun 1854",
            "method": "animate"
           },
           {
            "args": [
             [
              "Jul 1854"
             ],
             {
              "frame": {
               "duration": 0,
               "redraw": true
              },
              "fromcurrent": true,
              "mode": "immediate",
              "transition": {
               "duration": 0,
               "easing": "linear"
              }
             }
            ],
            "label": "Jul 1854",
            "method": "animate"
           },
           {
            "args": [
             [
              "Aug 1854"
             ],
             {
              "frame": {
               "duration": 0,
               "redraw": true
              },
              "fromcurrent": true,
              "mode": "immediate",
              "transition": {
               "duration": 0,
               "easing": "linear"
              }
             }
            ],
            "label": "Aug 1854",
            "method": "animate"
           },
           {
            "args": [
             [
              "Sep 1854"
             ],
             {
              "frame": {
               "duration": 0,
               "redraw": true
              },
              "fromcurrent": true,
              "mode": "immediate",
              "transition": {
               "duration": 0,
               "easing": "linear"
              }
             }
            ],
            "label": "Sep 1854",
            "method": "animate"
           },
           {
            "args": [
             [
              "Oct 1854"
             ],
             {
              "frame": {
               "duration": 0,
               "redraw": true
              },
              "fromcurrent": true,
              "mode": "immediate",
              "transition": {
               "duration": 0,
               "easing": "linear"
              }
             }
            ],
            "label": "Oct 1854",
            "method": "animate"
           },
           {
            "args": [
             [
              "Nov 1854"
             ],
             {
              "frame": {
               "duration": 0,
               "redraw": true
              },
              "fromcurrent": true,
              "mode": "immediate",
              "transition": {
               "duration": 0,
               "easing": "linear"
              }
             }
            ],
            "label": "Nov 1854",
            "method": "animate"
           },
           {
            "args": [
             [
              "Dec 1854"
             ],
             {
              "frame": {
               "duration": 0,
               "redraw": true
              },
              "fromcurrent": true,
              "mode": "immediate",
              "transition": {
               "duration": 0,
               "easing": "linear"
              }
             }
            ],
            "label": "Dec 1854",
            "method": "animate"
           },
           {
            "args": [
             [
              "Jan 1855"
             ],
             {
              "frame": {
               "duration": 0,
               "redraw": true
              },
              "fromcurrent": true,
              "mode": "immediate",
              "transition": {
               "duration": 0,
               "easing": "linear"
              }
             }
            ],
            "label": "Jan 1855",
            "method": "animate"
           },
           {
            "args": [
             [
              "Feb 1855"
             ],
             {
              "frame": {
               "duration": 0,
               "redraw": true
              },
              "fromcurrent": true,
              "mode": "immediate",
              "transition": {
               "duration": 0,
               "easing": "linear"
              }
             }
            ],
            "label": "Feb 1855",
            "method": "animate"
           },
           {
            "args": [
             [
              "Mar 1855"
             ],
             {
              "frame": {
               "duration": 0,
               "redraw": true
              },
              "fromcurrent": true,
              "mode": "immediate",
              "transition": {
               "duration": 0,
               "easing": "linear"
              }
             }
            ],
            "label": "Mar 1855",
            "method": "animate"
           },
           {
            "args": [
             [
              "Apr 1855"
             ],
             {
              "frame": {
               "duration": 0,
               "redraw": true
              },
              "fromcurrent": true,
              "mode": "immediate",
              "transition": {
               "duration": 0,
               "easing": "linear"
              }
             }
            ],
            "label": "Apr 1855",
            "method": "animate"
           },
           {
            "args": [
             [
              "May 1855"
             ],
             {
              "frame": {
               "duration": 0,
               "redraw": true
              },
              "fromcurrent": true,
              "mode": "immediate",
              "transition": {
               "duration": 0,
               "easing": "linear"
              }
             }
            ],
            "label": "May 1855",
            "method": "animate"
           },
           {
            "args": [
             [
              "Jun 1855"
             ],
             {
              "frame": {
               "duration": 0,
               "redraw": true
              },
              "fromcurrent": true,
              "mode": "immediate",
              "transition": {
               "duration": 0,
               "easing": "linear"
              }
             }
            ],
            "label": "Jun 1855",
            "method": "animate"
           },
           {
            "args": [
             [
              "Jul 1855"
             ],
             {
              "frame": {
               "duration": 0,
               "redraw": true
              },
              "fromcurrent": true,
              "mode": "immediate",
              "transition": {
               "duration": 0,
               "easing": "linear"
              }
             }
            ],
            "label": "Jul 1855",
            "method": "animate"
           },
           {
            "args": [
             [
              "Aug 1855"
             ],
             {
              "frame": {
               "duration": 0,
               "redraw": true
              },
              "fromcurrent": true,
              "mode": "immediate",
              "transition": {
               "duration": 0,
               "easing": "linear"
              }
             }
            ],
            "label": "Aug 1855",
            "method": "animate"
           },
           {
            "args": [
             [
              "Sep 1855"
             ],
             {
              "frame": {
               "duration": 0,
               "redraw": true
              },
              "fromcurrent": true,
              "mode": "immediate",
              "transition": {
               "duration": 0,
               "easing": "linear"
              }
             }
            ],
            "label": "Sep 1855",
            "method": "animate"
           },
           {
            "args": [
             [
              "Oct 1855"
             ],
             {
              "frame": {
               "duration": 0,
               "redraw": true
              },
              "fromcurrent": true,
              "mode": "immediate",
              "transition": {
               "duration": 0,
               "easing": "linear"
              }
             }
            ],
            "label": "Oct 1855",
            "method": "animate"
           },
           {
            "args": [
             [
              "Nov 1855"
             ],
             {
              "frame": {
               "duration": 0,
               "redraw": true
              },
              "fromcurrent": true,
              "mode": "immediate",
              "transition": {
               "duration": 0,
               "easing": "linear"
              }
             }
            ],
            "label": "Nov 1855",
            "method": "animate"
           },
           {
            "args": [
             [
              "Dec 1855"
             ],
             {
              "frame": {
               "duration": 0,
               "redraw": true
              },
              "fromcurrent": true,
              "mode": "immediate",
              "transition": {
               "duration": 0,
               "easing": "linear"
              }
             }
            ],
            "label": "Dec 1855",
            "method": "animate"
           },
           {
            "args": [
             [
              "Jan 1856"
             ],
             {
              "frame": {
               "duration": 0,
               "redraw": true
              },
              "fromcurrent": true,
              "mode": "immediate",
              "transition": {
               "duration": 0,
               "easing": "linear"
              }
             }
            ],
            "label": "Jan 1856",
            "method": "animate"
           },
           {
            "args": [
             [
              "Feb 1856"
             ],
             {
              "frame": {
               "duration": 0,
               "redraw": true
              },
              "fromcurrent": true,
              "mode": "immediate",
              "transition": {
               "duration": 0,
               "easing": "linear"
              }
             }
            ],
            "label": "Feb 1856",
            "method": "animate"
           },
           {
            "args": [
             [
              "Mar 1856"
             ],
             {
              "frame": {
               "duration": 0,
               "redraw": true
              },
              "fromcurrent": true,
              "mode": "immediate",
              "transition": {
               "duration": 0,
               "easing": "linear"
              }
             }
            ],
            "label": "Mar 1856",
            "method": "animate"
           }
          ],
          "x": 0.1,
          "xanchor": "left",
          "y": 0,
          "yanchor": "top"
         }
        ],
        "template": {
         "data": {
          "bar": [
           {
            "error_x": {
             "color": "#2a3f5f"
            },
            "error_y": {
             "color": "#2a3f5f"
            },
            "marker": {
             "line": {
              "color": "#E5ECF6",
              "width": 0.5
             }
            },
            "type": "bar"
           }
          ],
          "barpolar": [
           {
            "marker": {
             "line": {
              "color": "#E5ECF6",
              "width": 0.5
             }
            },
            "type": "barpolar"
           }
          ],
          "carpet": [
           {
            "aaxis": {
             "endlinecolor": "#2a3f5f",
             "gridcolor": "white",
             "linecolor": "white",
             "minorgridcolor": "white",
             "startlinecolor": "#2a3f5f"
            },
            "baxis": {
             "endlinecolor": "#2a3f5f",
             "gridcolor": "white",
             "linecolor": "white",
             "minorgridcolor": "white",
             "startlinecolor": "#2a3f5f"
            },
            "type": "carpet"
           }
          ],
          "choropleth": [
           {
            "colorbar": {
             "outlinewidth": 0,
             "ticks": ""
            },
            "type": "choropleth"
           }
          ],
          "contour": [
           {
            "colorbar": {
             "outlinewidth": 0,
             "ticks": ""
            },
            "colorscale": [
             [
              0,
              "#0d0887"
             ],
             [
              0.1111111111111111,
              "#46039f"
             ],
             [
              0.2222222222222222,
              "#7201a8"
             ],
             [
              0.3333333333333333,
              "#9c179e"
             ],
             [
              0.4444444444444444,
              "#bd3786"
             ],
             [
              0.5555555555555556,
              "#d8576b"
             ],
             [
              0.6666666666666666,
              "#ed7953"
             ],
             [
              0.7777777777777778,
              "#fb9f3a"
             ],
             [
              0.8888888888888888,
              "#fdca26"
             ],
             [
              1,
              "#f0f921"
             ]
            ],
            "type": "contour"
           }
          ],
          "contourcarpet": [
           {
            "colorbar": {
             "outlinewidth": 0,
             "ticks": ""
            },
            "type": "contourcarpet"
           }
          ],
          "heatmap": [
           {
            "colorbar": {
             "outlinewidth": 0,
             "ticks": ""
            },
            "colorscale": [
             [
              0,
              "#0d0887"
             ],
             [
              0.1111111111111111,
              "#46039f"
             ],
             [
              0.2222222222222222,
              "#7201a8"
             ],
             [
              0.3333333333333333,
              "#9c179e"
             ],
             [
              0.4444444444444444,
              "#bd3786"
             ],
             [
              0.5555555555555556,
              "#d8576b"
             ],
             [
              0.6666666666666666,
              "#ed7953"
             ],
             [
              0.7777777777777778,
              "#fb9f3a"
             ],
             [
              0.8888888888888888,
              "#fdca26"
             ],
             [
              1,
              "#f0f921"
             ]
            ],
            "type": "heatmap"
           }
          ],
          "heatmapgl": [
           {
            "colorbar": {
             "outlinewidth": 0,
             "ticks": ""
            },
            "colorscale": [
             [
              0,
              "#0d0887"
             ],
             [
              0.1111111111111111,
              "#46039f"
             ],
             [
              0.2222222222222222,
              "#7201a8"
             ],
             [
              0.3333333333333333,
              "#9c179e"
             ],
             [
              0.4444444444444444,
              "#bd3786"
             ],
             [
              0.5555555555555556,
              "#d8576b"
             ],
             [
              0.6666666666666666,
              "#ed7953"
             ],
             [
              0.7777777777777778,
              "#fb9f3a"
             ],
             [
              0.8888888888888888,
              "#fdca26"
             ],
             [
              1,
              "#f0f921"
             ]
            ],
            "type": "heatmapgl"
           }
          ],
          "histogram": [
           {
            "marker": {
             "colorbar": {
              "outlinewidth": 0,
              "ticks": ""
             }
            },
            "type": "histogram"
           }
          ],
          "histogram2d": [
           {
            "colorbar": {
             "outlinewidth": 0,
             "ticks": ""
            },
            "colorscale": [
             [
              0,
              "#0d0887"
             ],
             [
              0.1111111111111111,
              "#46039f"
             ],
             [
              0.2222222222222222,
              "#7201a8"
             ],
             [
              0.3333333333333333,
              "#9c179e"
             ],
             [
              0.4444444444444444,
              "#bd3786"
             ],
             [
              0.5555555555555556,
              "#d8576b"
             ],
             [
              0.6666666666666666,
              "#ed7953"
             ],
             [
              0.7777777777777778,
              "#fb9f3a"
             ],
             [
              0.8888888888888888,
              "#fdca26"
             ],
             [
              1,
              "#f0f921"
             ]
            ],
            "type": "histogram2d"
           }
          ],
          "histogram2dcontour": [
           {
            "colorbar": {
             "outlinewidth": 0,
             "ticks": ""
            },
            "colorscale": [
             [
              0,
              "#0d0887"
             ],
             [
              0.1111111111111111,
              "#46039f"
             ],
             [
              0.2222222222222222,
              "#7201a8"
             ],
             [
              0.3333333333333333,
              "#9c179e"
             ],
             [
              0.4444444444444444,
              "#bd3786"
             ],
             [
              0.5555555555555556,
              "#d8576b"
             ],
             [
              0.6666666666666666,
              "#ed7953"
             ],
             [
              0.7777777777777778,
              "#fb9f3a"
             ],
             [
              0.8888888888888888,
              "#fdca26"
             ],
             [
              1,
              "#f0f921"
             ]
            ],
            "type": "histogram2dcontour"
           }
          ],
          "mesh3d": [
           {
            "colorbar": {
             "outlinewidth": 0,
             "ticks": ""
            },
            "type": "mesh3d"
           }
          ],
          "parcoords": [
           {
            "line": {
             "colorbar": {
              "outlinewidth": 0,
              "ticks": ""
             }
            },
            "type": "parcoords"
           }
          ],
          "pie": [
           {
            "automargin": true,
            "type": "pie"
           }
          ],
          "scatter": [
           {
            "marker": {
             "colorbar": {
              "outlinewidth": 0,
              "ticks": ""
             }
            },
            "type": "scatter"
           }
          ],
          "scatter3d": [
           {
            "line": {
             "colorbar": {
              "outlinewidth": 0,
              "ticks": ""
             }
            },
            "marker": {
             "colorbar": {
              "outlinewidth": 0,
              "ticks": ""
             }
            },
            "type": "scatter3d"
           }
          ],
          "scattercarpet": [
           {
            "marker": {
             "colorbar": {
              "outlinewidth": 0,
              "ticks": ""
             }
            },
            "type": "scattercarpet"
           }
          ],
          "scattergeo": [
           {
            "marker": {
             "colorbar": {
              "outlinewidth": 0,
              "ticks": ""
             }
            },
            "type": "scattergeo"
           }
          ],
          "scattergl": [
           {
            "marker": {
             "colorbar": {
              "outlinewidth": 0,
              "ticks": ""
             }
            },
            "type": "scattergl"
           }
          ],
          "scattermapbox": [
           {
            "marker": {
             "colorbar": {
              "outlinewidth": 0,
              "ticks": ""
             }
            },
            "type": "scattermapbox"
           }
          ],
          "scatterpolar": [
           {
            "marker": {
             "colorbar": {
              "outlinewidth": 0,
              "ticks": ""
             }
            },
            "type": "scatterpolar"
           }
          ],
          "scatterpolargl": [
           {
            "marker": {
             "colorbar": {
              "outlinewidth": 0,
              "ticks": ""
             }
            },
            "type": "scatterpolargl"
           }
          ],
          "scatterternary": [
           {
            "marker": {
             "colorbar": {
              "outlinewidth": 0,
              "ticks": ""
             }
            },
            "type": "scatterternary"
           }
          ],
          "surface": [
           {
            "colorbar": {
             "outlinewidth": 0,
             "ticks": ""
            },
            "colorscale": [
             [
              0,
              "#0d0887"
             ],
             [
              0.1111111111111111,
              "#46039f"
             ],
             [
              0.2222222222222222,
              "#7201a8"
             ],
             [
              0.3333333333333333,
              "#9c179e"
             ],
             [
              0.4444444444444444,
              "#bd3786"
             ],
             [
              0.5555555555555556,
              "#d8576b"
             ],
             [
              0.6666666666666666,
              "#ed7953"
             ],
             [
              0.7777777777777778,
              "#fb9f3a"
             ],
             [
              0.8888888888888888,
              "#fdca26"
             ],
             [
              1,
              "#f0f921"
             ]
            ],
            "type": "surface"
           }
          ],
          "table": [
           {
            "cells": {
             "fill": {
              "color": "#EBF0F8"
             },
             "line": {
              "color": "white"
             }
            },
            "header": {
             "fill": {
              "color": "#C8D4E3"
             },
             "line": {
              "color": "white"
             }
            },
            "type": "table"
           }
          ]
         },
         "layout": {
          "annotationdefaults": {
           "arrowcolor": "#2a3f5f",
           "arrowhead": 0,
           "arrowwidth": 1
          },
          "autotypenumbers": "strict",
          "coloraxis": {
           "colorbar": {
            "outlinewidth": 0,
            "ticks": ""
           }
          },
          "colorscale": {
           "diverging": [
            [
             0,
             "#8e0152"
            ],
            [
             0.1,
             "#c51b7d"
            ],
            [
             0.2,
             "#de77ae"
            ],
            [
             0.3,
             "#f1b6da"
            ],
            [
             0.4,
             "#fde0ef"
            ],
            [
             0.5,
             "#f7f7f7"
            ],
            [
             0.6,
             "#e6f5d0"
            ],
            [
             0.7,
             "#b8e186"
            ],
            [
             0.8,
             "#7fbc41"
            ],
            [
             0.9,
             "#4d9221"
            ],
            [
             1,
             "#276419"
            ]
           ],
           "sequential": [
            [
             0,
             "#0d0887"
            ],
            [
             0.1111111111111111,
             "#46039f"
            ],
            [
             0.2222222222222222,
             "#7201a8"
            ],
            [
             0.3333333333333333,
             "#9c179e"
            ],
            [
             0.4444444444444444,
             "#bd3786"
            ],
            [
             0.5555555555555556,
             "#d8576b"
            ],
            [
             0.6666666666666666,
             "#ed7953"
            ],
            [
             0.7777777777777778,
             "#fb9f3a"
            ],
            [
             0.8888888888888888,
             "#fdca26"
            ],
            [
             1,
             "#f0f921"
            ]
           ],
           "sequentialminus": [
            [
             0,
             "#0d0887"
            ],
            [
             0.1111111111111111,
             "#46039f"
            ],
            [
             0.2222222222222222,
             "#7201a8"
            ],
            [
             0.3333333333333333,
             "#9c179e"
            ],
            [
             0.4444444444444444,
             "#bd3786"
            ],
            [
             0.5555555555555556,
             "#d8576b"
            ],
            [
             0.6666666666666666,
             "#ed7953"
            ],
            [
             0.7777777777777778,
             "#fb9f3a"
            ],
            [
             0.8888888888888888,
             "#fdca26"
            ],
            [
             1,
             "#f0f921"
            ]
           ]
          },
          "colorway": [
           "#636efa",
           "#EF553B",
           "#00cc96",
           "#ab63fa",
           "#FFA15A",
           "#19d3f3",
           "#FF6692",
           "#B6E880",
           "#FF97FF",
           "#FECB52"
          ],
          "font": {
           "color": "#2a3f5f"
          },
          "geo": {
           "bgcolor": "white",
           "lakecolor": "white",
           "landcolor": "#E5ECF6",
           "showlakes": true,
           "showland": true,
           "subunitcolor": "white"
          },
          "hoverlabel": {
           "align": "left"
          },
          "hovermode": "closest",
          "mapbox": {
           "style": "light"
          },
          "paper_bgcolor": "white",
          "plot_bgcolor": "#E5ECF6",
          "polar": {
           "angularaxis": {
            "gridcolor": "white",
            "linecolor": "white",
            "ticks": ""
           },
           "bgcolor": "#E5ECF6",
           "radialaxis": {
            "gridcolor": "white",
            "linecolor": "white",
            "ticks": ""
           }
          },
          "scene": {
           "xaxis": {
            "backgroundcolor": "#E5ECF6",
            "gridcolor": "white",
            "gridwidth": 2,
            "linecolor": "white",
            "showbackground": true,
            "ticks": "",
            "zerolinecolor": "white"
           },
           "yaxis": {
            "backgroundcolor": "#E5ECF6",
            "gridcolor": "white",
            "gridwidth": 2,
            "linecolor": "white",
            "showbackground": true,
            "ticks": "",
            "zerolinecolor": "white"
           },
           "zaxis": {
            "backgroundcolor": "#E5ECF6",
            "gridcolor": "white",
            "gridwidth": 2,
            "linecolor": "white",
            "showbackground": true,
            "ticks": "",
            "zerolinecolor": "white"
           }
          },
          "shapedefaults": {
           "line": {
            "color": "#2a3f5f"
           }
          },
          "ternary": {
           "aaxis": {
            "gridcolor": "white",
            "linecolor": "white",
            "ticks": ""
           },
           "baxis": {
            "gridcolor": "white",
            "linecolor": "white",
            "ticks": ""
           },
           "bgcolor": "#E5ECF6",
           "caxis": {
            "gridcolor": "white",
            "linecolor": "white",
            "ticks": ""
           }
          },
          "title": {
           "x": 0.05
          },
          "xaxis": {
           "automargin": true,
           "gridcolor": "white",
           "linecolor": "white",
           "ticks": "",
           "title": {
            "standoff": 15
           },
           "zerolinecolor": "white",
           "zerolinewidth": 2
          },
          "yaxis": {
           "automargin": true,
           "gridcolor": "white",
           "linecolor": "white",
           "ticks": "",
           "title": {
            "standoff": 15
           },
           "zerolinecolor": "white",
           "zerolinewidth": 2
          }
         }
        },
        "title": {
         "text": "Annual Rates of Mortality by Cause"
        },
        "updatemenus": [
         {
          "buttons": [
           {
            "args": [
             null,
             {
              "frame": {
               "duration": 500,
               "redraw": true
              },
              "fromcurrent": true,
              "mode": "immediate",
              "transition": {
               "duration": 500,
               "easing": "linear"
              }
             }
            ],
            "label": "&#9654;",
            "method": "animate"
           },
           {
            "args": [
             [
              null
             ],
             {
              "frame": {
               "duration": 0,
               "redraw": true
              },
              "fromcurrent": true,
              "mode": "immediate",
              "transition": {
               "duration": 0,
               "easing": "linear"
              }
             }
            ],
            "label": "&#9724;",
            "method": "animate"
           }
          ],
          "direction": "left",
          "pad": {
           "r": 10,
           "t": 70
          },
          "showactive": false,
          "type": "buttons",
          "x": 0.1,
          "xanchor": "right",
          "y": 0,
          "yanchor": "top"
         }
        ],
        "xaxis": {
         "anchor": "y",
         "categoryarray": [
          "Zymotic Diseases",
          "Wounds & Injuries",
          "All other causes"
         ],
         "categoryorder": "array",
         "domain": [
          0,
          1
         ],
         "title": {
          "text": "Cause of Mortality"
         }
        },
        "yaxis": {
         "anchor": "x",
         "domain": [
          0,
          1
         ],
         "range": [
          0,
          1100
         ],
         "title": {
          "text": "Annual rate of mortality (based on monthly rate)"
         }
        }
       }
      },
      "text/html": [
       "<div>                            <div id=\"897344d7-dcc7-4729-a22c-08128ab45706\" class=\"plotly-graph-div\" style=\"height:525px; width:100%;\"></div>            <script type=\"text/javascript\">                require([\"plotly\"], function(Plotly) {                    window.PLOTLYENV=window.PLOTLYENV || {};                                    if (document.getElementById(\"897344d7-dcc7-4729-a22c-08128ab45706\")) {                    Plotly.newPlot(                        \"897344d7-dcc7-4729-a22c-08128ab45706\",                        [{\"alignmentgroup\": \"True\", \"hovertemplate\": \"Cause of Mortality=%{x}<br>Month=Apr 1854<br>Annual rate of mortality (based on monthly rate)=%{y}<extra></extra>\", \"legendgroup\": \"Zymotic Diseases\", \"marker\": {\"color\": \"#636efa\"}, \"name\": \"Zymotic Diseases\", \"offsetgroup\": \"Zymotic Diseases\", \"orientation\": \"v\", \"showlegend\": true, \"textposition\": \"auto\", \"type\": \"bar\", \"x\": [\"Zymotic Diseases\"], \"xaxis\": \"x\", \"y\": [1.4], \"yaxis\": \"y\"}, {\"alignmentgroup\": \"True\", \"hovertemplate\": \"Cause of Mortality=%{x}<br>Month=Apr 1854<br>Annual rate of mortality (based on monthly rate)=%{y}<extra></extra>\", \"legendgroup\": \"Wounds & Injuries\", \"marker\": {\"color\": \"#EF553B\"}, \"name\": \"Wounds & Injuries\", \"offsetgroup\": \"Wounds & Injuries\", \"orientation\": \"v\", \"showlegend\": true, \"textposition\": \"auto\", \"type\": \"bar\", \"x\": [\"Wounds & Injuries\"], \"xaxis\": \"x\", \"y\": [0.0], \"yaxis\": \"y\"}, {\"alignmentgroup\": \"True\", \"hovertemplate\": \"Cause of Mortality=%{x}<br>Month=Apr 1854<br>Annual rate of mortality (based on monthly rate)=%{y}<extra></extra>\", \"legendgroup\": \"All other causes\", \"marker\": {\"color\": \"#00cc96\"}, \"name\": \"All other causes\", \"offsetgroup\": \"All other causes\", \"orientation\": \"v\", \"showlegend\": true, \"textposition\": \"auto\", \"type\": \"bar\", \"x\": [\"All other causes\"], \"xaxis\": \"x\", \"y\": [7.0], \"yaxis\": \"y\"}],                        {\"barmode\": \"relative\", \"legend\": {\"title\": {\"text\": \"Cause of Mortality\"}, \"tracegroupgap\": 0}, \"sliders\": [{\"active\": 0, \"currentvalue\": {\"prefix\": \"Month=\"}, \"len\": 0.9, \"pad\": {\"b\": 10, \"t\": 60}, \"steps\": [{\"args\": [[\"Apr 1854\"], {\"frame\": {\"duration\": 0, \"redraw\": true}, \"fromcurrent\": true, \"mode\": \"immediate\", \"transition\": {\"duration\": 0, \"easing\": \"linear\"}}], \"label\": \"Apr 1854\", \"method\": \"animate\"}, {\"args\": [[\"May 1854\"], {\"frame\": {\"duration\": 0, \"redraw\": true}, \"fromcurrent\": true, \"mode\": \"immediate\", \"transition\": {\"duration\": 0, \"easing\": \"linear\"}}], \"label\": \"May 1854\", \"method\": \"animate\"}, {\"args\": [[\"Jun 1854\"], {\"frame\": {\"duration\": 0, \"redraw\": true}, \"fromcurrent\": true, \"mode\": \"immediate\", \"transition\": {\"duration\": 0, \"easing\": \"linear\"}}], \"label\": \"Jun 1854\", \"method\": \"animate\"}, {\"args\": [[\"Jul 1854\"], {\"frame\": {\"duration\": 0, \"redraw\": true}, \"fromcurrent\": true, \"mode\": \"immediate\", \"transition\": {\"duration\": 0, \"easing\": \"linear\"}}], \"label\": \"Jul 1854\", \"method\": \"animate\"}, {\"args\": [[\"Aug 1854\"], {\"frame\": {\"duration\": 0, \"redraw\": true}, \"fromcurrent\": true, \"mode\": \"immediate\", \"transition\": {\"duration\": 0, \"easing\": \"linear\"}}], \"label\": \"Aug 1854\", \"method\": \"animate\"}, {\"args\": [[\"Sep 1854\"], {\"frame\": {\"duration\": 0, \"redraw\": true}, \"fromcurrent\": true, \"mode\": \"immediate\", \"transition\": {\"duration\": 0, \"easing\": \"linear\"}}], \"label\": \"Sep 1854\", \"method\": \"animate\"}, {\"args\": [[\"Oct 1854\"], {\"frame\": {\"duration\": 0, \"redraw\": true}, \"fromcurrent\": true, \"mode\": \"immediate\", \"transition\": {\"duration\": 0, \"easing\": \"linear\"}}], \"label\": \"Oct 1854\", \"method\": \"animate\"}, {\"args\": [[\"Nov 1854\"], {\"frame\": {\"duration\": 0, \"redraw\": true}, \"fromcurrent\": true, \"mode\": \"immediate\", \"transition\": {\"duration\": 0, \"easing\": \"linear\"}}], \"label\": \"Nov 1854\", \"method\": \"animate\"}, {\"args\": [[\"Dec 1854\"], {\"frame\": {\"duration\": 0, \"redraw\": true}, \"fromcurrent\": true, \"mode\": \"immediate\", \"transition\": {\"duration\": 0, \"easing\": \"linear\"}}], \"label\": \"Dec 1854\", \"method\": \"animate\"}, {\"args\": [[\"Jan 1855\"], {\"frame\": {\"duration\": 0, \"redraw\": true}, \"fromcurrent\": true, \"mode\": \"immediate\", \"transition\": {\"duration\": 0, \"easing\": \"linear\"}}], \"label\": \"Jan 1855\", \"method\": \"animate\"}, {\"args\": [[\"Feb 1855\"], {\"frame\": {\"duration\": 0, \"redraw\": true}, \"fromcurrent\": true, \"mode\": \"immediate\", \"transition\": {\"duration\": 0, \"easing\": \"linear\"}}], \"label\": \"Feb 1855\", \"method\": \"animate\"}, {\"args\": [[\"Mar 1855\"], {\"frame\": {\"duration\": 0, \"redraw\": true}, \"fromcurrent\": true, \"mode\": \"immediate\", \"transition\": {\"duration\": 0, \"easing\": \"linear\"}}], \"label\": \"Mar 1855\", \"method\": \"animate\"}, {\"args\": [[\"Apr 1855\"], {\"frame\": {\"duration\": 0, \"redraw\": true}, \"fromcurrent\": true, \"mode\": \"immediate\", \"transition\": {\"duration\": 0, \"easing\": \"linear\"}}], \"label\": \"Apr 1855\", \"method\": \"animate\"}, {\"args\": [[\"May 1855\"], {\"frame\": {\"duration\": 0, \"redraw\": true}, \"fromcurrent\": true, \"mode\": \"immediate\", \"transition\": {\"duration\": 0, \"easing\": \"linear\"}}], \"label\": \"May 1855\", \"method\": \"animate\"}, {\"args\": [[\"Jun 1855\"], {\"frame\": {\"duration\": 0, \"redraw\": true}, \"fromcurrent\": true, \"mode\": \"immediate\", \"transition\": {\"duration\": 0, \"easing\": \"linear\"}}], \"label\": \"Jun 1855\", \"method\": \"animate\"}, {\"args\": [[\"Jul 1855\"], {\"frame\": {\"duration\": 0, \"redraw\": true}, \"fromcurrent\": true, \"mode\": \"immediate\", \"transition\": {\"duration\": 0, \"easing\": \"linear\"}}], \"label\": \"Jul 1855\", \"method\": \"animate\"}, {\"args\": [[\"Aug 1855\"], {\"frame\": {\"duration\": 0, \"redraw\": true}, \"fromcurrent\": true, \"mode\": \"immediate\", \"transition\": {\"duration\": 0, \"easing\": \"linear\"}}], \"label\": \"Aug 1855\", \"method\": \"animate\"}, {\"args\": [[\"Sep 1855\"], {\"frame\": {\"duration\": 0, \"redraw\": true}, \"fromcurrent\": true, \"mode\": \"immediate\", \"transition\": {\"duration\": 0, \"easing\": \"linear\"}}], \"label\": \"Sep 1855\", \"method\": \"animate\"}, {\"args\": [[\"Oct 1855\"], {\"frame\": {\"duration\": 0, \"redraw\": true}, \"fromcurrent\": true, \"mode\": \"immediate\", \"transition\": {\"duration\": 0, \"easing\": \"linear\"}}], \"label\": \"Oct 1855\", \"method\": \"animate\"}, {\"args\": [[\"Nov 1855\"], {\"frame\": {\"duration\": 0, \"redraw\": true}, \"fromcurrent\": true, \"mode\": \"immediate\", \"transition\": {\"duration\": 0, \"easing\": \"linear\"}}], \"label\": \"Nov 1855\", \"method\": \"animate\"}, {\"args\": [[\"Dec 1855\"], {\"frame\": {\"duration\": 0, \"redraw\": true}, \"fromcurrent\": true, \"mode\": \"immediate\", \"transition\": {\"duration\": 0, \"easing\": \"linear\"}}], \"label\": \"Dec 1855\", \"method\": \"animate\"}, {\"args\": [[\"Jan 1856\"], {\"frame\": {\"duration\": 0, \"redraw\": true}, \"fromcurrent\": true, \"mode\": \"immediate\", \"transition\": {\"duration\": 0, \"easing\": \"linear\"}}], \"label\": \"Jan 1856\", \"method\": \"animate\"}, {\"args\": [[\"Feb 1856\"], {\"frame\": {\"duration\": 0, \"redraw\": true}, \"fromcurrent\": true, \"mode\": \"immediate\", \"transition\": {\"duration\": 0, \"easing\": \"linear\"}}], \"label\": \"Feb 1856\", \"method\": \"animate\"}, {\"args\": [[\"Mar 1856\"], {\"frame\": {\"duration\": 0, \"redraw\": true}, \"fromcurrent\": true, \"mode\": \"immediate\", \"transition\": {\"duration\": 0, \"easing\": \"linear\"}}], \"label\": \"Mar 1856\", \"method\": \"animate\"}], \"x\": 0.1, \"xanchor\": \"left\", \"y\": 0, \"yanchor\": \"top\"}], \"template\": {\"data\": {\"bar\": [{\"error_x\": {\"color\": \"#2a3f5f\"}, \"error_y\": {\"color\": \"#2a3f5f\"}, \"marker\": {\"line\": {\"color\": \"#E5ECF6\", \"width\": 0.5}}, \"type\": \"bar\"}], \"barpolar\": [{\"marker\": {\"line\": {\"color\": \"#E5ECF6\", \"width\": 0.5}}, \"type\": \"barpolar\"}], \"carpet\": [{\"aaxis\": {\"endlinecolor\": \"#2a3f5f\", \"gridcolor\": \"white\", \"linecolor\": \"white\", \"minorgridcolor\": \"white\", \"startlinecolor\": \"#2a3f5f\"}, \"baxis\": {\"endlinecolor\": \"#2a3f5f\", \"gridcolor\": \"white\", \"linecolor\": \"white\", \"minorgridcolor\": \"white\", \"startlinecolor\": \"#2a3f5f\"}, \"type\": \"carpet\"}], \"choropleth\": [{\"colorbar\": {\"outlinewidth\": 0, \"ticks\": \"\"}, \"type\": \"choropleth\"}], \"contour\": [{\"colorbar\": {\"outlinewidth\": 0, \"ticks\": \"\"}, \"colorscale\": [[0.0, \"#0d0887\"], [0.1111111111111111, \"#46039f\"], [0.2222222222222222, \"#7201a8\"], [0.3333333333333333, \"#9c179e\"], [0.4444444444444444, \"#bd3786\"], [0.5555555555555556, \"#d8576b\"], [0.6666666666666666, \"#ed7953\"], [0.7777777777777778, \"#fb9f3a\"], [0.8888888888888888, \"#fdca26\"], [1.0, \"#f0f921\"]], \"type\": \"contour\"}], \"contourcarpet\": [{\"colorbar\": {\"outlinewidth\": 0, \"ticks\": \"\"}, \"type\": \"contourcarpet\"}], \"heatmap\": [{\"colorbar\": {\"outlinewidth\": 0, \"ticks\": \"\"}, \"colorscale\": [[0.0, \"#0d0887\"], [0.1111111111111111, \"#46039f\"], [0.2222222222222222, \"#7201a8\"], [0.3333333333333333, \"#9c179e\"], [0.4444444444444444, \"#bd3786\"], [0.5555555555555556, \"#d8576b\"], [0.6666666666666666, \"#ed7953\"], [0.7777777777777778, \"#fb9f3a\"], [0.8888888888888888, \"#fdca26\"], [1.0, \"#f0f921\"]], \"type\": \"heatmap\"}], \"heatmapgl\": [{\"colorbar\": {\"outlinewidth\": 0, \"ticks\": \"\"}, \"colorscale\": [[0.0, \"#0d0887\"], [0.1111111111111111, \"#46039f\"], [0.2222222222222222, \"#7201a8\"], [0.3333333333333333, \"#9c179e\"], [0.4444444444444444, \"#bd3786\"], [0.5555555555555556, \"#d8576b\"], [0.6666666666666666, \"#ed7953\"], [0.7777777777777778, \"#fb9f3a\"], [0.8888888888888888, \"#fdca26\"], [1.0, \"#f0f921\"]], \"type\": \"heatmapgl\"}], \"histogram\": [{\"marker\": {\"colorbar\": {\"outlinewidth\": 0, \"ticks\": \"\"}}, \"type\": \"histogram\"}], \"histogram2d\": [{\"colorbar\": {\"outlinewidth\": 0, \"ticks\": \"\"}, \"colorscale\": [[0.0, \"#0d0887\"], [0.1111111111111111, \"#46039f\"], [0.2222222222222222, \"#7201a8\"], [0.3333333333333333, \"#9c179e\"], [0.4444444444444444, \"#bd3786\"], [0.5555555555555556, \"#d8576b\"], [0.6666666666666666, \"#ed7953\"], [0.7777777777777778, \"#fb9f3a\"], [0.8888888888888888, \"#fdca26\"], [1.0, \"#f0f921\"]], \"type\": \"histogram2d\"}], \"histogram2dcontour\": [{\"colorbar\": {\"outlinewidth\": 0, \"ticks\": \"\"}, \"colorscale\": [[0.0, \"#0d0887\"], [0.1111111111111111, \"#46039f\"], [0.2222222222222222, \"#7201a8\"], [0.3333333333333333, \"#9c179e\"], [0.4444444444444444, \"#bd3786\"], [0.5555555555555556, \"#d8576b\"], [0.6666666666666666, \"#ed7953\"], [0.7777777777777778, \"#fb9f3a\"], [0.8888888888888888, \"#fdca26\"], [1.0, \"#f0f921\"]], \"type\": \"histogram2dcontour\"}], \"mesh3d\": [{\"colorbar\": {\"outlinewidth\": 0, \"ticks\": \"\"}, \"type\": \"mesh3d\"}], \"parcoords\": [{\"line\": {\"colorbar\": {\"outlinewidth\": 0, \"ticks\": \"\"}}, \"type\": \"parcoords\"}], \"pie\": [{\"automargin\": true, \"type\": \"pie\"}], \"scatter\": [{\"marker\": {\"colorbar\": {\"outlinewidth\": 0, \"ticks\": \"\"}}, \"type\": \"scatter\"}], \"scatter3d\": [{\"line\": {\"colorbar\": {\"outlinewidth\": 0, \"ticks\": \"\"}}, \"marker\": {\"colorbar\": {\"outlinewidth\": 0, \"ticks\": \"\"}}, \"type\": \"scatter3d\"}], \"scattercarpet\": [{\"marker\": {\"colorbar\": {\"outlinewidth\": 0, \"ticks\": \"\"}}, \"type\": \"scattercarpet\"}], \"scattergeo\": [{\"marker\": {\"colorbar\": {\"outlinewidth\": 0, \"ticks\": \"\"}}, \"type\": \"scattergeo\"}], \"scattergl\": [{\"marker\": {\"colorbar\": {\"outlinewidth\": 0, \"ticks\": \"\"}}, \"type\": \"scattergl\"}], \"scattermapbox\": [{\"marker\": {\"colorbar\": {\"outlinewidth\": 0, \"ticks\": \"\"}}, \"type\": \"scattermapbox\"}], \"scatterpolar\": [{\"marker\": {\"colorbar\": {\"outlinewidth\": 0, \"ticks\": \"\"}}, \"type\": \"scatterpolar\"}], \"scatterpolargl\": [{\"marker\": {\"colorbar\": {\"outlinewidth\": 0, \"ticks\": \"\"}}, \"type\": \"scatterpolargl\"}], \"scatterternary\": [{\"marker\": {\"colorbar\": {\"outlinewidth\": 0, \"ticks\": \"\"}}, \"type\": \"scatterternary\"}], \"surface\": [{\"colorbar\": {\"outlinewidth\": 0, \"ticks\": \"\"}, \"colorscale\": [[0.0, \"#0d0887\"], [0.1111111111111111, \"#46039f\"], [0.2222222222222222, \"#7201a8\"], [0.3333333333333333, \"#9c179e\"], [0.4444444444444444, \"#bd3786\"], [0.5555555555555556, \"#d8576b\"], [0.6666666666666666, \"#ed7953\"], [0.7777777777777778, \"#fb9f3a\"], [0.8888888888888888, \"#fdca26\"], [1.0, \"#f0f921\"]], \"type\": \"surface\"}], \"table\": [{\"cells\": {\"fill\": {\"color\": \"#EBF0F8\"}, \"line\": {\"color\": \"white\"}}, \"header\": {\"fill\": {\"color\": \"#C8D4E3\"}, \"line\": {\"color\": \"white\"}}, \"type\": \"table\"}]}, \"layout\": {\"annotationdefaults\": {\"arrowcolor\": \"#2a3f5f\", \"arrowhead\": 0, \"arrowwidth\": 1}, \"autotypenumbers\": \"strict\", \"coloraxis\": {\"colorbar\": {\"outlinewidth\": 0, \"ticks\": \"\"}}, \"colorscale\": {\"diverging\": [[0, \"#8e0152\"], [0.1, \"#c51b7d\"], [0.2, \"#de77ae\"], [0.3, \"#f1b6da\"], [0.4, \"#fde0ef\"], [0.5, \"#f7f7f7\"], [0.6, \"#e6f5d0\"], [0.7, \"#b8e186\"], [0.8, \"#7fbc41\"], [0.9, \"#4d9221\"], [1, \"#276419\"]], \"sequential\": [[0.0, \"#0d0887\"], [0.1111111111111111, \"#46039f\"], [0.2222222222222222, \"#7201a8\"], [0.3333333333333333, \"#9c179e\"], [0.4444444444444444, \"#bd3786\"], [0.5555555555555556, \"#d8576b\"], [0.6666666666666666, \"#ed7953\"], [0.7777777777777778, \"#fb9f3a\"], [0.8888888888888888, \"#fdca26\"], [1.0, \"#f0f921\"]], \"sequentialminus\": [[0.0, \"#0d0887\"], [0.1111111111111111, \"#46039f\"], [0.2222222222222222, \"#7201a8\"], [0.3333333333333333, \"#9c179e\"], [0.4444444444444444, \"#bd3786\"], [0.5555555555555556, \"#d8576b\"], [0.6666666666666666, \"#ed7953\"], [0.7777777777777778, \"#fb9f3a\"], [0.8888888888888888, \"#fdca26\"], [1.0, \"#f0f921\"]]}, \"colorway\": [\"#636efa\", \"#EF553B\", \"#00cc96\", \"#ab63fa\", \"#FFA15A\", \"#19d3f3\", \"#FF6692\", \"#B6E880\", \"#FF97FF\", \"#FECB52\"], \"font\": {\"color\": \"#2a3f5f\"}, \"geo\": {\"bgcolor\": \"white\", \"lakecolor\": \"white\", \"landcolor\": \"#E5ECF6\", \"showlakes\": true, \"showland\": true, \"subunitcolor\": \"white\"}, \"hoverlabel\": {\"align\": \"left\"}, \"hovermode\": \"closest\", \"mapbox\": {\"style\": \"light\"}, \"paper_bgcolor\": \"white\", \"plot_bgcolor\": \"#E5ECF6\", \"polar\": {\"angularaxis\": {\"gridcolor\": \"white\", \"linecolor\": \"white\", \"ticks\": \"\"}, \"bgcolor\": \"#E5ECF6\", \"radialaxis\": {\"gridcolor\": \"white\", \"linecolor\": \"white\", \"ticks\": \"\"}}, \"scene\": {\"xaxis\": {\"backgroundcolor\": \"#E5ECF6\", \"gridcolor\": \"white\", \"gridwidth\": 2, \"linecolor\": \"white\", \"showbackground\": true, \"ticks\": \"\", \"zerolinecolor\": \"white\"}, \"yaxis\": {\"backgroundcolor\": \"#E5ECF6\", \"gridcolor\": \"white\", \"gridwidth\": 2, \"linecolor\": \"white\", \"showbackground\": true, \"ticks\": \"\", \"zerolinecolor\": \"white\"}, \"zaxis\": {\"backgroundcolor\": \"#E5ECF6\", \"gridcolor\": \"white\", \"gridwidth\": 2, \"linecolor\": \"white\", \"showbackground\": true, \"ticks\": \"\", \"zerolinecolor\": \"white\"}}, \"shapedefaults\": {\"line\": {\"color\": \"#2a3f5f\"}}, \"ternary\": {\"aaxis\": {\"gridcolor\": \"white\", \"linecolor\": \"white\", \"ticks\": \"\"}, \"baxis\": {\"gridcolor\": \"white\", \"linecolor\": \"white\", \"ticks\": \"\"}, \"bgcolor\": \"#E5ECF6\", \"caxis\": {\"gridcolor\": \"white\", \"linecolor\": \"white\", \"ticks\": \"\"}}, \"title\": {\"x\": 0.05}, \"xaxis\": {\"automargin\": true, \"gridcolor\": \"white\", \"linecolor\": \"white\", \"ticks\": \"\", \"title\": {\"standoff\": 15}, \"zerolinecolor\": \"white\", \"zerolinewidth\": 2}, \"yaxis\": {\"automargin\": true, \"gridcolor\": \"white\", \"linecolor\": \"white\", \"ticks\": \"\", \"title\": {\"standoff\": 15}, \"zerolinecolor\": \"white\", \"zerolinewidth\": 2}}}, \"title\": {\"text\": \"Annual Rates of Mortality by Cause\"}, \"updatemenus\": [{\"buttons\": [{\"args\": [null, {\"frame\": {\"duration\": 500, \"redraw\": true}, \"fromcurrent\": true, \"mode\": \"immediate\", \"transition\": {\"duration\": 500, \"easing\": \"linear\"}}], \"label\": \"&#9654;\", \"method\": \"animate\"}, {\"args\": [[null], {\"frame\": {\"duration\": 0, \"redraw\": true}, \"fromcurrent\": true, \"mode\": \"immediate\", \"transition\": {\"duration\": 0, \"easing\": \"linear\"}}], \"label\": \"&#9724;\", \"method\": \"animate\"}], \"direction\": \"left\", \"pad\": {\"r\": 10, \"t\": 70}, \"showactive\": false, \"type\": \"buttons\", \"x\": 0.1, \"xanchor\": \"right\", \"y\": 0, \"yanchor\": \"top\"}], \"xaxis\": {\"anchor\": \"y\", \"categoryarray\": [\"Zymotic Diseases\", \"Wounds & Injuries\", \"All other causes\"], \"categoryorder\": \"array\", \"domain\": [0.0, 1.0], \"title\": {\"text\": \"Cause of Mortality\"}}, \"yaxis\": {\"anchor\": \"x\", \"domain\": [0.0, 1.0], \"range\": [0, 1100], \"title\": {\"text\": \"Annual rate of mortality (based on monthly rate)\"}}},                        {\"responsive\": true}                    ).then(function(){\n",
       "                            Plotly.addFrames('897344d7-dcc7-4729-a22c-08128ab45706', [{\"data\": [{\"alignmentgroup\": \"True\", \"hovertemplate\": \"Cause of Mortality=%{x}<br>Month=Apr 1854<br>Annual rate of mortality (based on monthly rate)=%{y}<extra></extra>\", \"legendgroup\": \"Zymotic Diseases\", \"marker\": {\"color\": \"#636efa\"}, \"name\": \"Zymotic Diseases\", \"offsetgroup\": \"Zymotic Diseases\", \"orientation\": \"v\", \"showlegend\": true, \"textposition\": \"auto\", \"x\": [\"Zymotic Diseases\"], \"xaxis\": \"x\", \"y\": [1.4], \"yaxis\": \"y\", \"type\": \"bar\"}, {\"alignmentgroup\": \"True\", \"hovertemplate\": \"Cause of Mortality=%{x}<br>Month=Apr 1854<br>Annual rate of mortality (based on monthly rate)=%{y}<extra></extra>\", \"legendgroup\": \"Wounds & Injuries\", \"marker\": {\"color\": \"#EF553B\"}, \"name\": \"Wounds & Injuries\", \"offsetgroup\": \"Wounds & Injuries\", \"orientation\": \"v\", \"showlegend\": true, \"textposition\": \"auto\", \"x\": [\"Wounds & Injuries\"], \"xaxis\": \"x\", \"y\": [0.0], \"yaxis\": \"y\", \"type\": \"bar\"}, {\"alignmentgroup\": \"True\", \"hovertemplate\": \"Cause of Mortality=%{x}<br>Month=Apr 1854<br>Annual rate of mortality (based on monthly rate)=%{y}<extra></extra>\", \"legendgroup\": \"All other causes\", \"marker\": {\"color\": \"#00cc96\"}, \"name\": \"All other causes\", \"offsetgroup\": \"All other causes\", \"orientation\": \"v\", \"showlegend\": true, \"textposition\": \"auto\", \"x\": [\"All other causes\"], \"xaxis\": \"x\", \"y\": [7.0], \"yaxis\": \"y\", \"type\": \"bar\"}], \"name\": \"Apr 1854\"}, {\"data\": [{\"alignmentgroup\": \"True\", \"hovertemplate\": \"Cause of Mortality=%{x}<br>Month=May 1854<br>Annual rate of mortality (based on monthly rate)=%{y}<extra></extra>\", \"legendgroup\": \"Zymotic Diseases\", \"marker\": {\"color\": \"#636efa\"}, \"name\": \"Zymotic Diseases\", \"offsetgroup\": \"Zymotic Diseases\", \"orientation\": \"v\", \"showlegend\": true, \"textposition\": \"auto\", \"x\": [\"Zymotic Diseases\"], \"xaxis\": \"x\", \"y\": [6.2], \"yaxis\": \"y\", \"type\": \"bar\"}, {\"alignmentgroup\": \"True\", \"hovertemplate\": \"Cause of Mortality=%{x}<br>Month=May 1854<br>Annual rate of mortality (based on monthly rate)=%{y}<extra></extra>\", \"legendgroup\": \"Wounds & Injuries\", \"marker\": {\"color\": \"#EF553B\"}, \"name\": \"Wounds & Injuries\", \"offsetgroup\": \"Wounds & Injuries\", \"orientation\": \"v\", \"showlegend\": true, \"textposition\": \"auto\", \"x\": [\"Wounds & Injuries\"], \"xaxis\": \"x\", \"y\": [0.0], \"yaxis\": \"y\", \"type\": \"bar\"}, {\"alignmentgroup\": \"True\", \"hovertemplate\": \"Cause of Mortality=%{x}<br>Month=May 1854<br>Annual rate of mortality (based on monthly rate)=%{y}<extra></extra>\", \"legendgroup\": \"All other causes\", \"marker\": {\"color\": \"#00cc96\"}, \"name\": \"All other causes\", \"offsetgroup\": \"All other causes\", \"orientation\": \"v\", \"showlegend\": true, \"textposition\": \"auto\", \"x\": [\"All other causes\"], \"xaxis\": \"x\", \"y\": [4.6], \"yaxis\": \"y\", \"type\": \"bar\"}], \"name\": \"May 1854\"}, {\"data\": [{\"alignmentgroup\": \"True\", \"hovertemplate\": \"Cause of Mortality=%{x}<br>Month=Jun 1854<br>Annual rate of mortality (based on monthly rate)=%{y}<extra></extra>\", \"legendgroup\": \"Zymotic Diseases\", \"marker\": {\"color\": \"#636efa\"}, \"name\": \"Zymotic Diseases\", \"offsetgroup\": \"Zymotic Diseases\", \"orientation\": \"v\", \"showlegend\": true, \"textposition\": \"auto\", \"x\": [\"Zymotic Diseases\"], \"xaxis\": \"x\", \"y\": [4.7], \"yaxis\": \"y\", \"type\": \"bar\"}, {\"alignmentgroup\": \"True\", \"hovertemplate\": \"Cause of Mortality=%{x}<br>Month=Jun 1854<br>Annual rate of mortality (based on monthly rate)=%{y}<extra></extra>\", \"legendgroup\": \"Wounds & Injuries\", \"marker\": {\"color\": \"#EF553B\"}, \"name\": \"Wounds & Injuries\", \"offsetgroup\": \"Wounds & Injuries\", \"orientation\": \"v\", \"showlegend\": true, \"textposition\": \"auto\", \"x\": [\"Wounds & Injuries\"], \"xaxis\": \"x\", \"y\": [0.0], \"yaxis\": \"y\", \"type\": \"bar\"}, {\"alignmentgroup\": \"True\", \"hovertemplate\": \"Cause of Mortality=%{x}<br>Month=Jun 1854<br>Annual rate of mortality (based on monthly rate)=%{y}<extra></extra>\", \"legendgroup\": \"All other causes\", \"marker\": {\"color\": \"#00cc96\"}, \"name\": \"All other causes\", \"offsetgroup\": \"All other causes\", \"orientation\": \"v\", \"showlegend\": true, \"textposition\": \"auto\", \"x\": [\"All other causes\"], \"xaxis\": \"x\", \"y\": [2.5], \"yaxis\": \"y\", \"type\": \"bar\"}], \"name\": \"Jun 1854\"}, {\"data\": [{\"alignmentgroup\": \"True\", \"hovertemplate\": \"Cause of Mortality=%{x}<br>Month=Jul 1854<br>Annual rate of mortality (based on monthly rate)=%{y}<extra></extra>\", \"legendgroup\": \"Zymotic Diseases\", \"marker\": {\"color\": \"#636efa\"}, \"name\": \"Zymotic Diseases\", \"offsetgroup\": \"Zymotic Diseases\", \"orientation\": \"v\", \"showlegend\": true, \"textposition\": \"auto\", \"x\": [\"Zymotic Diseases\"], \"xaxis\": \"x\", \"y\": [150.0], \"yaxis\": \"y\", \"type\": \"bar\"}, {\"alignmentgroup\": \"True\", \"hovertemplate\": \"Cause of Mortality=%{x}<br>Month=Jul 1854<br>Annual rate of mortality (based on monthly rate)=%{y}<extra></extra>\", \"legendgroup\": \"Wounds & Injuries\", \"marker\": {\"color\": \"#EF553B\"}, \"name\": \"Wounds & Injuries\", \"offsetgroup\": \"Wounds & Injuries\", \"orientation\": \"v\", \"showlegend\": true, \"textposition\": \"auto\", \"x\": [\"Wounds & Injuries\"], \"xaxis\": \"x\", \"y\": [0.0], \"yaxis\": \"y\", \"type\": \"bar\"}, {\"alignmentgroup\": \"True\", \"hovertemplate\": \"Cause of Mortality=%{x}<br>Month=Jul 1854<br>Annual rate of mortality (based on monthly rate)=%{y}<extra></extra>\", \"legendgroup\": \"All other causes\", \"marker\": {\"color\": \"#00cc96\"}, \"name\": \"All other causes\", \"offsetgroup\": \"All other causes\", \"orientation\": \"v\", \"showlegend\": true, \"textposition\": \"auto\", \"x\": [\"All other causes\"], \"xaxis\": \"x\", \"y\": [9.6], \"yaxis\": \"y\", \"type\": \"bar\"}], \"name\": \"Jul 1854\"}, {\"data\": [{\"alignmentgroup\": \"True\", \"hovertemplate\": \"Cause of Mortality=%{x}<br>Month=Aug 1854<br>Annual rate of mortality (based on monthly rate)=%{y}<extra></extra>\", \"legendgroup\": \"Zymotic Diseases\", \"marker\": {\"color\": \"#636efa\"}, \"name\": \"Zymotic Diseases\", \"offsetgroup\": \"Zymotic Diseases\", \"orientation\": \"v\", \"showlegend\": true, \"textposition\": \"auto\", \"x\": [\"Zymotic Diseases\"], \"xaxis\": \"x\", \"y\": [328.5], \"yaxis\": \"y\", \"type\": \"bar\"}, {\"alignmentgroup\": \"True\", \"hovertemplate\": \"Cause of Mortality=%{x}<br>Month=Aug 1854<br>Annual rate of mortality (based on monthly rate)=%{y}<extra></extra>\", \"legendgroup\": \"Wounds & Injuries\", \"marker\": {\"color\": \"#EF553B\"}, \"name\": \"Wounds & Injuries\", \"offsetgroup\": \"Wounds & Injuries\", \"orientation\": \"v\", \"showlegend\": true, \"textposition\": \"auto\", \"x\": [\"Wounds & Injuries\"], \"xaxis\": \"x\", \"y\": [0.4], \"yaxis\": \"y\", \"type\": \"bar\"}, {\"alignmentgroup\": \"True\", \"hovertemplate\": \"Cause of Mortality=%{x}<br>Month=Aug 1854<br>Annual rate of mortality (based on monthly rate)=%{y}<extra></extra>\", \"legendgroup\": \"All other causes\", \"marker\": {\"color\": \"#00cc96\"}, \"name\": \"All other causes\", \"offsetgroup\": \"All other causes\", \"orientation\": \"v\", \"showlegend\": true, \"textposition\": \"auto\", \"x\": [\"All other causes\"], \"xaxis\": \"x\", \"y\": [11.9], \"yaxis\": \"y\", \"type\": \"bar\"}], \"name\": \"Aug 1854\"}, {\"data\": [{\"alignmentgroup\": \"True\", \"hovertemplate\": \"Cause of Mortality=%{x}<br>Month=Sep 1854<br>Annual rate of mortality (based on monthly rate)=%{y}<extra></extra>\", \"legendgroup\": \"Zymotic Diseases\", \"marker\": {\"color\": \"#636efa\"}, \"name\": \"Zymotic Diseases\", \"offsetgroup\": \"Zymotic Diseases\", \"orientation\": \"v\", \"showlegend\": true, \"textposition\": \"auto\", \"x\": [\"Zymotic Diseases\"], \"xaxis\": \"x\", \"y\": [312.2], \"yaxis\": \"y\", \"type\": \"bar\"}, {\"alignmentgroup\": \"True\", \"hovertemplate\": \"Cause of Mortality=%{x}<br>Month=Sep 1854<br>Annual rate of mortality (based on monthly rate)=%{y}<extra></extra>\", \"legendgroup\": \"Wounds & Injuries\", \"marker\": {\"color\": \"#EF553B\"}, \"name\": \"Wounds & Injuries\", \"offsetgroup\": \"Wounds & Injuries\", \"orientation\": \"v\", \"showlegend\": true, \"textposition\": \"auto\", \"x\": [\"Wounds & Injuries\"], \"xaxis\": \"x\", \"y\": [32.1], \"yaxis\": \"y\", \"type\": \"bar\"}, {\"alignmentgroup\": \"True\", \"hovertemplate\": \"Cause of Mortality=%{x}<br>Month=Sep 1854<br>Annual rate of mortality (based on monthly rate)=%{y}<extra></extra>\", \"legendgroup\": \"All other causes\", \"marker\": {\"color\": \"#00cc96\"}, \"name\": \"All other causes\", \"offsetgroup\": \"All other causes\", \"orientation\": \"v\", \"showlegend\": true, \"textposition\": \"auto\", \"x\": [\"All other causes\"], \"xaxis\": \"x\", \"y\": [27.7], \"yaxis\": \"y\", \"type\": \"bar\"}], \"name\": \"Sep 1854\"}, {\"data\": [{\"alignmentgroup\": \"True\", \"hovertemplate\": \"Cause of Mortality=%{x}<br>Month=Oct 1854<br>Annual rate of mortality (based on monthly rate)=%{y}<extra></extra>\", \"legendgroup\": \"Zymotic Diseases\", \"marker\": {\"color\": \"#636efa\"}, \"name\": \"Zymotic Diseases\", \"offsetgroup\": \"Zymotic Diseases\", \"orientation\": \"v\", \"showlegend\": true, \"textposition\": \"auto\", \"x\": [\"Zymotic Diseases\"], \"xaxis\": \"x\", \"y\": [197.0], \"yaxis\": \"y\", \"type\": \"bar\"}, {\"alignmentgroup\": \"True\", \"hovertemplate\": \"Cause of Mortality=%{x}<br>Month=Oct 1854<br>Annual rate of mortality (based on monthly rate)=%{y}<extra></extra>\", \"legendgroup\": \"Wounds & Injuries\", \"marker\": {\"color\": \"#EF553B\"}, \"name\": \"Wounds & Injuries\", \"offsetgroup\": \"Wounds & Injuries\", \"orientation\": \"v\", \"showlegend\": true, \"textposition\": \"auto\", \"x\": [\"Wounds & Injuries\"], \"xaxis\": \"x\", \"y\": [51.7], \"yaxis\": \"y\", \"type\": \"bar\"}, {\"alignmentgroup\": \"True\", \"hovertemplate\": \"Cause of Mortality=%{x}<br>Month=Oct 1854<br>Annual rate of mortality (based on monthly rate)=%{y}<extra></extra>\", \"legendgroup\": \"All other causes\", \"marker\": {\"color\": \"#00cc96\"}, \"name\": \"All other causes\", \"offsetgroup\": \"All other causes\", \"orientation\": \"v\", \"showlegend\": true, \"textposition\": \"auto\", \"x\": [\"All other causes\"], \"xaxis\": \"x\", \"y\": [50.1], \"yaxis\": \"y\", \"type\": \"bar\"}], \"name\": \"Oct 1854\"}, {\"data\": [{\"alignmentgroup\": \"True\", \"hovertemplate\": \"Cause of Mortality=%{x}<br>Month=Nov 1854<br>Annual rate of mortality (based on monthly rate)=%{y}<extra></extra>\", \"legendgroup\": \"Zymotic Diseases\", \"marker\": {\"color\": \"#636efa\"}, \"name\": \"Zymotic Diseases\", \"offsetgroup\": \"Zymotic Diseases\", \"orientation\": \"v\", \"showlegend\": true, \"textposition\": \"auto\", \"x\": [\"Zymotic Diseases\"], \"xaxis\": \"x\", \"y\": [340.6], \"yaxis\": \"y\", \"type\": \"bar\"}, {\"alignmentgroup\": \"True\", \"hovertemplate\": \"Cause of Mortality=%{x}<br>Month=Nov 1854<br>Annual rate of mortality (based on monthly rate)=%{y}<extra></extra>\", \"legendgroup\": \"Wounds & Injuries\", \"marker\": {\"color\": \"#EF553B\"}, \"name\": \"Wounds & Injuries\", \"offsetgroup\": \"Wounds & Injuries\", \"orientation\": \"v\", \"showlegend\": true, \"textposition\": \"auto\", \"x\": [\"Wounds & Injuries\"], \"xaxis\": \"x\", \"y\": [115.8], \"yaxis\": \"y\", \"type\": \"bar\"}, {\"alignmentgroup\": \"True\", \"hovertemplate\": \"Cause of Mortality=%{x}<br>Month=Nov 1854<br>Annual rate of mortality (based on monthly rate)=%{y}<extra></extra>\", \"legendgroup\": \"All other causes\", \"marker\": {\"color\": \"#00cc96\"}, \"name\": \"All other causes\", \"offsetgroup\": \"All other causes\", \"orientation\": \"v\", \"showlegend\": true, \"textposition\": \"auto\", \"x\": [\"All other causes\"], \"xaxis\": \"x\", \"y\": [42.8], \"yaxis\": \"y\", \"type\": \"bar\"}], \"name\": \"Nov 1854\"}, {\"data\": [{\"alignmentgroup\": \"True\", \"hovertemplate\": \"Cause of Mortality=%{x}<br>Month=Dec 1854<br>Annual rate of mortality (based on monthly rate)=%{y}<extra></extra>\", \"legendgroup\": \"Zymotic Diseases\", \"marker\": {\"color\": \"#636efa\"}, \"name\": \"Zymotic Diseases\", \"offsetgroup\": \"Zymotic Diseases\", \"orientation\": \"v\", \"showlegend\": true, \"textposition\": \"auto\", \"x\": [\"Zymotic Diseases\"], \"xaxis\": \"x\", \"y\": [631.5], \"yaxis\": \"y\", \"type\": \"bar\"}, {\"alignmentgroup\": \"True\", \"hovertemplate\": \"Cause of Mortality=%{x}<br>Month=Dec 1854<br>Annual rate of mortality (based on monthly rate)=%{y}<extra></extra>\", \"legendgroup\": \"Wounds & Injuries\", \"marker\": {\"color\": \"#EF553B\"}, \"name\": \"Wounds & Injuries\", \"offsetgroup\": \"Wounds & Injuries\", \"orientation\": \"v\", \"showlegend\": true, \"textposition\": \"auto\", \"x\": [\"Wounds & Injuries\"], \"xaxis\": \"x\", \"y\": [41.7], \"yaxis\": \"y\", \"type\": \"bar\"}, {\"alignmentgroup\": \"True\", \"hovertemplate\": \"Cause of Mortality=%{x}<br>Month=Dec 1854<br>Annual rate of mortality (based on monthly rate)=%{y}<extra></extra>\", \"legendgroup\": \"All other causes\", \"marker\": {\"color\": \"#00cc96\"}, \"name\": \"All other causes\", \"offsetgroup\": \"All other causes\", \"orientation\": \"v\", \"showlegend\": true, \"textposition\": \"auto\", \"x\": [\"All other causes\"], \"xaxis\": \"x\", \"y\": [48.0], \"yaxis\": \"y\", \"type\": \"bar\"}], \"name\": \"Dec 1854\"}, {\"data\": [{\"alignmentgroup\": \"True\", \"hovertemplate\": \"Cause of Mortality=%{x}<br>Month=Jan 1855<br>Annual rate of mortality (based on monthly rate)=%{y}<extra></extra>\", \"legendgroup\": \"Zymotic Diseases\", \"marker\": {\"color\": \"#636efa\"}, \"name\": \"Zymotic Diseases\", \"offsetgroup\": \"Zymotic Diseases\", \"orientation\": \"v\", \"showlegend\": true, \"textposition\": \"auto\", \"x\": [\"Zymotic Diseases\"], \"xaxis\": \"x\", \"y\": [1022.8], \"yaxis\": \"y\", \"type\": \"bar\"}, {\"alignmentgroup\": \"True\", \"hovertemplate\": \"Cause of Mortality=%{x}<br>Month=Jan 1855<br>Annual rate of mortality (based on monthly rate)=%{y}<extra></extra>\", \"legendgroup\": \"Wounds & Injuries\", \"marker\": {\"color\": \"#EF553B\"}, \"name\": \"Wounds & Injuries\", \"offsetgroup\": \"Wounds & Injuries\", \"orientation\": \"v\", \"showlegend\": true, \"textposition\": \"auto\", \"x\": [\"Wounds & Injuries\"], \"xaxis\": \"x\", \"y\": [30.7], \"yaxis\": \"y\", \"type\": \"bar\"}, {\"alignmentgroup\": \"True\", \"hovertemplate\": \"Cause of Mortality=%{x}<br>Month=Jan 1855<br>Annual rate of mortality (based on monthly rate)=%{y}<extra></extra>\", \"legendgroup\": \"All other causes\", \"marker\": {\"color\": \"#00cc96\"}, \"name\": \"All other causes\", \"offsetgroup\": \"All other causes\", \"orientation\": \"v\", \"showlegend\": true, \"textposition\": \"auto\", \"x\": [\"All other causes\"], \"xaxis\": \"x\", \"y\": [120.0], \"yaxis\": \"y\", \"type\": \"bar\"}], \"name\": \"Jan 1855\"}, {\"data\": [{\"alignmentgroup\": \"True\", \"hovertemplate\": \"Cause of Mortality=%{x}<br>Month=Feb 1855<br>Annual rate of mortality (based on monthly rate)=%{y}<extra></extra>\", \"legendgroup\": \"Zymotic Diseases\", \"marker\": {\"color\": \"#636efa\"}, \"name\": \"Zymotic Diseases\", \"offsetgroup\": \"Zymotic Diseases\", \"orientation\": \"v\", \"showlegend\": true, \"textposition\": \"auto\", \"x\": [\"Zymotic Diseases\"], \"xaxis\": \"x\", \"y\": [822.8], \"yaxis\": \"y\", \"type\": \"bar\"}, {\"alignmentgroup\": \"True\", \"hovertemplate\": \"Cause of Mortality=%{x}<br>Month=Feb 1855<br>Annual rate of mortality (based on monthly rate)=%{y}<extra></extra>\", \"legendgroup\": \"Wounds & Injuries\", \"marker\": {\"color\": \"#EF553B\"}, \"name\": \"Wounds & Injuries\", \"offsetgroup\": \"Wounds & Injuries\", \"orientation\": \"v\", \"showlegend\": true, \"textposition\": \"auto\", \"x\": [\"Wounds & Injuries\"], \"xaxis\": \"x\", \"y\": [16.3], \"yaxis\": \"y\", \"type\": \"bar\"}, {\"alignmentgroup\": \"True\", \"hovertemplate\": \"Cause of Mortality=%{x}<br>Month=Feb 1855<br>Annual rate of mortality (based on monthly rate)=%{y}<extra></extra>\", \"legendgroup\": \"All other causes\", \"marker\": {\"color\": \"#00cc96\"}, \"name\": \"All other causes\", \"offsetgroup\": \"All other causes\", \"orientation\": \"v\", \"showlegend\": true, \"textposition\": \"auto\", \"x\": [\"All other causes\"], \"xaxis\": \"x\", \"y\": [140.1], \"yaxis\": \"y\", \"type\": \"bar\"}], \"name\": \"Feb 1855\"}, {\"data\": [{\"alignmentgroup\": \"True\", \"hovertemplate\": \"Cause of Mortality=%{x}<br>Month=Mar 1855<br>Annual rate of mortality (based on monthly rate)=%{y}<extra></extra>\", \"legendgroup\": \"Zymotic Diseases\", \"marker\": {\"color\": \"#636efa\"}, \"name\": \"Zymotic Diseases\", \"offsetgroup\": \"Zymotic Diseases\", \"orientation\": \"v\", \"showlegend\": true, \"textposition\": \"auto\", \"x\": [\"Zymotic Diseases\"], \"xaxis\": \"x\", \"y\": [480.3], \"yaxis\": \"y\", \"type\": \"bar\"}, {\"alignmentgroup\": \"True\", \"hovertemplate\": \"Cause of Mortality=%{x}<br>Month=Mar 1855<br>Annual rate of mortality (based on monthly rate)=%{y}<extra></extra>\", \"legendgroup\": \"Wounds & Injuries\", \"marker\": {\"color\": \"#EF553B\"}, \"name\": \"Wounds & Injuries\", \"offsetgroup\": \"Wounds & Injuries\", \"orientation\": \"v\", \"showlegend\": true, \"textposition\": \"auto\", \"x\": [\"Wounds & Injuries\"], \"xaxis\": \"x\", \"y\": [12.8], \"yaxis\": \"y\", \"type\": \"bar\"}, {\"alignmentgroup\": \"True\", \"hovertemplate\": \"Cause of Mortality=%{x}<br>Month=Mar 1855<br>Annual rate of mortality (based on monthly rate)=%{y}<extra></extra>\", \"legendgroup\": \"All other causes\", \"marker\": {\"color\": \"#00cc96\"}, \"name\": \"All other causes\", \"offsetgroup\": \"All other causes\", \"orientation\": \"v\", \"showlegend\": true, \"textposition\": \"auto\", \"x\": [\"All other causes\"], \"xaxis\": \"x\", \"y\": [68.6], \"yaxis\": \"y\", \"type\": \"bar\"}], \"name\": \"Mar 1855\"}, {\"data\": [{\"alignmentgroup\": \"True\", \"hovertemplate\": \"Cause of Mortality=%{x}<br>Month=Apr 1855<br>Annual rate of mortality (based on monthly rate)=%{y}<extra></extra>\", \"legendgroup\": \"Zymotic Diseases\", \"marker\": {\"color\": \"#636efa\"}, \"name\": \"Zymotic Diseases\", \"offsetgroup\": \"Zymotic Diseases\", \"orientation\": \"v\", \"showlegend\": true, \"textposition\": \"auto\", \"x\": [\"Zymotic Diseases\"], \"xaxis\": \"x\", \"y\": [177.5], \"yaxis\": \"y\", \"type\": \"bar\"}, {\"alignmentgroup\": \"True\", \"hovertemplate\": \"Cause of Mortality=%{x}<br>Month=Apr 1855<br>Annual rate of mortality (based on monthly rate)=%{y}<extra></extra>\", \"legendgroup\": \"Wounds & Injuries\", \"marker\": {\"color\": \"#EF553B\"}, \"name\": \"Wounds & Injuries\", \"offsetgroup\": \"Wounds & Injuries\", \"orientation\": \"v\", \"showlegend\": true, \"textposition\": \"auto\", \"x\": [\"Wounds & Injuries\"], \"xaxis\": \"x\", \"y\": [17.9], \"yaxis\": \"y\", \"type\": \"bar\"}, {\"alignmentgroup\": \"True\", \"hovertemplate\": \"Cause of Mortality=%{x}<br>Month=Apr 1855<br>Annual rate of mortality (based on monthly rate)=%{y}<extra></extra>\", \"legendgroup\": \"All other causes\", \"marker\": {\"color\": \"#00cc96\"}, \"name\": \"All other causes\", \"offsetgroup\": \"All other causes\", \"orientation\": \"v\", \"showlegend\": true, \"textposition\": \"auto\", \"x\": [\"All other causes\"], \"xaxis\": \"x\", \"y\": [21.2], \"yaxis\": \"y\", \"type\": \"bar\"}], \"name\": \"Apr 1855\"}, {\"data\": [{\"alignmentgroup\": \"True\", \"hovertemplate\": \"Cause of Mortality=%{x}<br>Month=May 1855<br>Annual rate of mortality (based on monthly rate)=%{y}<extra></extra>\", \"legendgroup\": \"Zymotic Diseases\", \"marker\": {\"color\": \"#636efa\"}, \"name\": \"Zymotic Diseases\", \"offsetgroup\": \"Zymotic Diseases\", \"orientation\": \"v\", \"showlegend\": true, \"textposition\": \"auto\", \"x\": [\"Zymotic Diseases\"], \"xaxis\": \"x\", \"y\": [171.8], \"yaxis\": \"y\", \"type\": \"bar\"}, {\"alignmentgroup\": \"True\", \"hovertemplate\": \"Cause of Mortality=%{x}<br>Month=May 1855<br>Annual rate of mortality (based on monthly rate)=%{y}<extra></extra>\", \"legendgroup\": \"Wounds & Injuries\", \"marker\": {\"color\": \"#EF553B\"}, \"name\": \"Wounds & Injuries\", \"offsetgroup\": \"Wounds & Injuries\", \"orientation\": \"v\", \"showlegend\": true, \"textposition\": \"auto\", \"x\": [\"Wounds & Injuries\"], \"xaxis\": \"x\", \"y\": [16.6], \"yaxis\": \"y\", \"type\": \"bar\"}, {\"alignmentgroup\": \"True\", \"hovertemplate\": \"Cause of Mortality=%{x}<br>Month=May 1855<br>Annual rate of mortality (based on monthly rate)=%{y}<extra></extra>\", \"legendgroup\": \"All other causes\", \"marker\": {\"color\": \"#00cc96\"}, \"name\": \"All other causes\", \"offsetgroup\": \"All other causes\", \"orientation\": \"v\", \"showlegend\": true, \"textposition\": \"auto\", \"x\": [\"All other causes\"], \"xaxis\": \"x\", \"y\": [12.5], \"yaxis\": \"y\", \"type\": \"bar\"}], \"name\": \"May 1855\"}, {\"data\": [{\"alignmentgroup\": \"True\", \"hovertemplate\": \"Cause of Mortality=%{x}<br>Month=Jun 1855<br>Annual rate of mortality (based on monthly rate)=%{y}<extra></extra>\", \"legendgroup\": \"Zymotic Diseases\", \"marker\": {\"color\": \"#636efa\"}, \"name\": \"Zymotic Diseases\", \"offsetgroup\": \"Zymotic Diseases\", \"orientation\": \"v\", \"showlegend\": true, \"textposition\": \"auto\", \"x\": [\"Zymotic Diseases\"], \"xaxis\": \"x\", \"y\": [247.6], \"yaxis\": \"y\", \"type\": \"bar\"}, {\"alignmentgroup\": \"True\", \"hovertemplate\": \"Cause of Mortality=%{x}<br>Month=Jun 1855<br>Annual rate of mortality (based on monthly rate)=%{y}<extra></extra>\", \"legendgroup\": \"Wounds & Injuries\", \"marker\": {\"color\": \"#EF553B\"}, \"name\": \"Wounds & Injuries\", \"offsetgroup\": \"Wounds & Injuries\", \"orientation\": \"v\", \"showlegend\": true, \"textposition\": \"auto\", \"x\": [\"Wounds & Injuries\"], \"xaxis\": \"x\", \"y\": [64.5], \"yaxis\": \"y\", \"type\": \"bar\"}, {\"alignmentgroup\": \"True\", \"hovertemplate\": \"Cause of Mortality=%{x}<br>Month=Jun 1855<br>Annual rate of mortality (based on monthly rate)=%{y}<extra></extra>\", \"legendgroup\": \"All other causes\", \"marker\": {\"color\": \"#00cc96\"}, \"name\": \"All other causes\", \"offsetgroup\": \"All other causes\", \"orientation\": \"v\", \"showlegend\": true, \"textposition\": \"auto\", \"x\": [\"All other causes\"], \"xaxis\": \"x\", \"y\": [9.6], \"yaxis\": \"y\", \"type\": \"bar\"}], \"name\": \"Jun 1855\"}, {\"data\": [{\"alignmentgroup\": \"True\", \"hovertemplate\": \"Cause of Mortality=%{x}<br>Month=Jul 1855<br>Annual rate of mortality (based on monthly rate)=%{y}<extra></extra>\", \"legendgroup\": \"Zymotic Diseases\", \"marker\": {\"color\": \"#636efa\"}, \"name\": \"Zymotic Diseases\", \"offsetgroup\": \"Zymotic Diseases\", \"orientation\": \"v\", \"showlegend\": true, \"textposition\": \"auto\", \"x\": [\"Zymotic Diseases\"], \"xaxis\": \"x\", \"y\": [107.5], \"yaxis\": \"y\", \"type\": \"bar\"}, {\"alignmentgroup\": \"True\", \"hovertemplate\": \"Cause of Mortality=%{x}<br>Month=Jul 1855<br>Annual rate of mortality (based on monthly rate)=%{y}<extra></extra>\", \"legendgroup\": \"Wounds & Injuries\", \"marker\": {\"color\": \"#EF553B\"}, \"name\": \"Wounds & Injuries\", \"offsetgroup\": \"Wounds & Injuries\", \"orientation\": \"v\", \"showlegend\": true, \"textposition\": \"auto\", \"x\": [\"Wounds & Injuries\"], \"xaxis\": \"x\", \"y\": [37.7], \"yaxis\": \"y\", \"type\": \"bar\"}, {\"alignmentgroup\": \"True\", \"hovertemplate\": \"Cause of Mortality=%{x}<br>Month=Jul 1855<br>Annual rate of mortality (based on monthly rate)=%{y}<extra></extra>\", \"legendgroup\": \"All other causes\", \"marker\": {\"color\": \"#00cc96\"}, \"name\": \"All other causes\", \"offsetgroup\": \"All other causes\", \"orientation\": \"v\", \"showlegend\": true, \"textposition\": \"auto\", \"x\": [\"All other causes\"], \"xaxis\": \"x\", \"y\": [9.3], \"yaxis\": \"y\", \"type\": \"bar\"}], \"name\": \"Jul 1855\"}, {\"data\": [{\"alignmentgroup\": \"True\", \"hovertemplate\": \"Cause of Mortality=%{x}<br>Month=Aug 1855<br>Annual rate of mortality (based on monthly rate)=%{y}<extra></extra>\", \"legendgroup\": \"Zymotic Diseases\", \"marker\": {\"color\": \"#636efa\"}, \"name\": \"Zymotic Diseases\", \"offsetgroup\": \"Zymotic Diseases\", \"orientation\": \"v\", \"showlegend\": true, \"textposition\": \"auto\", \"x\": [\"Zymotic Diseases\"], \"xaxis\": \"x\", \"y\": [129.9], \"yaxis\": \"y\", \"type\": \"bar\"}, {\"alignmentgroup\": \"True\", \"hovertemplate\": \"Cause of Mortality=%{x}<br>Month=Aug 1855<br>Annual rate of mortality (based on monthly rate)=%{y}<extra></extra>\", \"legendgroup\": \"Wounds & Injuries\", \"marker\": {\"color\": \"#EF553B\"}, \"name\": \"Wounds & Injuries\", \"offsetgroup\": \"Wounds & Injuries\", \"orientation\": \"v\", \"showlegend\": true, \"textposition\": \"auto\", \"x\": [\"Wounds & Injuries\"], \"xaxis\": \"x\", \"y\": [44.1], \"yaxis\": \"y\", \"type\": \"bar\"}, {\"alignmentgroup\": \"True\", \"hovertemplate\": \"Cause of Mortality=%{x}<br>Month=Aug 1855<br>Annual rate of mortality (based on monthly rate)=%{y}<extra></extra>\", \"legendgroup\": \"All other causes\", \"marker\": {\"color\": \"#00cc96\"}, \"name\": \"All other causes\", \"offsetgroup\": \"All other causes\", \"orientation\": \"v\", \"showlegend\": true, \"textposition\": \"auto\", \"x\": [\"All other causes\"], \"xaxis\": \"x\", \"y\": [6.7], \"yaxis\": \"y\", \"type\": \"bar\"}], \"name\": \"Aug 1855\"}, {\"data\": [{\"alignmentgroup\": \"True\", \"hovertemplate\": \"Cause of Mortality=%{x}<br>Month=Sep 1855<br>Annual rate of mortality (based on monthly rate)=%{y}<extra></extra>\", \"legendgroup\": \"Zymotic Diseases\", \"marker\": {\"color\": \"#636efa\"}, \"name\": \"Zymotic Diseases\", \"offsetgroup\": \"Zymotic Diseases\", \"orientation\": \"v\", \"showlegend\": true, \"textposition\": \"auto\", \"x\": [\"Zymotic Diseases\"], \"xaxis\": \"x\", \"y\": [47.5], \"yaxis\": \"y\", \"type\": \"bar\"}, {\"alignmentgroup\": \"True\", \"hovertemplate\": \"Cause of Mortality=%{x}<br>Month=Sep 1855<br>Annual rate of mortality (based on monthly rate)=%{y}<extra></extra>\", \"legendgroup\": \"Wounds & Injuries\", \"marker\": {\"color\": \"#EF553B\"}, \"name\": \"Wounds & Injuries\", \"offsetgroup\": \"Wounds & Injuries\", \"orientation\": \"v\", \"showlegend\": true, \"textposition\": \"auto\", \"x\": [\"Wounds & Injuries\"], \"xaxis\": \"x\", \"y\": [69.4], \"yaxis\": \"y\", \"type\": \"bar\"}, {\"alignmentgroup\": \"True\", \"hovertemplate\": \"Cause of Mortality=%{x}<br>Month=Sep 1855<br>Annual rate of mortality (based on monthly rate)=%{y}<extra></extra>\", \"legendgroup\": \"All other causes\", \"marker\": {\"color\": \"#00cc96\"}, \"name\": \"All other causes\", \"offsetgroup\": \"All other causes\", \"orientation\": \"v\", \"showlegend\": true, \"textposition\": \"auto\", \"x\": [\"All other causes\"], \"xaxis\": \"x\", \"y\": [5.0], \"yaxis\": \"y\", \"type\": \"bar\"}], \"name\": \"Sep 1855\"}, {\"data\": [{\"alignmentgroup\": \"True\", \"hovertemplate\": \"Cause of Mortality=%{x}<br>Month=Oct 1855<br>Annual rate of mortality (based on monthly rate)=%{y}<extra></extra>\", \"legendgroup\": \"Zymotic Diseases\", \"marker\": {\"color\": \"#636efa\"}, \"name\": \"Zymotic Diseases\", \"offsetgroup\": \"Zymotic Diseases\", \"orientation\": \"v\", \"showlegend\": true, \"textposition\": \"auto\", \"x\": [\"Zymotic Diseases\"], \"xaxis\": \"x\", \"y\": [32.8], \"yaxis\": \"y\", \"type\": \"bar\"}, {\"alignmentgroup\": \"True\", \"hovertemplate\": \"Cause of Mortality=%{x}<br>Month=Oct 1855<br>Annual rate of mortality (based on monthly rate)=%{y}<extra></extra>\", \"legendgroup\": \"Wounds & Injuries\", \"marker\": {\"color\": \"#EF553B\"}, \"name\": \"Wounds & Injuries\", \"offsetgroup\": \"Wounds & Injuries\", \"orientation\": \"v\", \"showlegend\": true, \"textposition\": \"auto\", \"x\": [\"Wounds & Injuries\"], \"xaxis\": \"x\", \"y\": [13.6], \"yaxis\": \"y\", \"type\": \"bar\"}, {\"alignmentgroup\": \"True\", \"hovertemplate\": \"Cause of Mortality=%{x}<br>Month=Oct 1855<br>Annual rate of mortality (based on monthly rate)=%{y}<extra></extra>\", \"legendgroup\": \"All other causes\", \"marker\": {\"color\": \"#00cc96\"}, \"name\": \"All other causes\", \"offsetgroup\": \"All other causes\", \"orientation\": \"v\", \"showlegend\": true, \"textposition\": \"auto\", \"x\": [\"All other causes\"], \"xaxis\": \"x\", \"y\": [4.6], \"yaxis\": \"y\", \"type\": \"bar\"}], \"name\": \"Oct 1855\"}, {\"data\": [{\"alignmentgroup\": \"True\", \"hovertemplate\": \"Cause of Mortality=%{x}<br>Month=Nov 1855<br>Annual rate of mortality (based on monthly rate)=%{y}<extra></extra>\", \"legendgroup\": \"Zymotic Diseases\", \"marker\": {\"color\": \"#636efa\"}, \"name\": \"Zymotic Diseases\", \"offsetgroup\": \"Zymotic Diseases\", \"orientation\": \"v\", \"showlegend\": true, \"textposition\": \"auto\", \"x\": [\"Zymotic Diseases\"], \"xaxis\": \"x\", \"y\": [56.4], \"yaxis\": \"y\", \"type\": \"bar\"}, {\"alignmentgroup\": \"True\", \"hovertemplate\": \"Cause of Mortality=%{x}<br>Month=Nov 1855<br>Annual rate of mortality (based on monthly rate)=%{y}<extra></extra>\", \"legendgroup\": \"Wounds & Injuries\", \"marker\": {\"color\": \"#EF553B\"}, \"name\": \"Wounds & Injuries\", \"offsetgroup\": \"Wounds & Injuries\", \"orientation\": \"v\", \"showlegend\": true, \"textposition\": \"auto\", \"x\": [\"Wounds & Injuries\"], \"xaxis\": \"x\", \"y\": [10.5], \"yaxis\": \"y\", \"type\": \"bar\"}, {\"alignmentgroup\": \"True\", \"hovertemplate\": \"Cause of Mortality=%{x}<br>Month=Nov 1855<br>Annual rate of mortality (based on monthly rate)=%{y}<extra></extra>\", \"legendgroup\": \"All other causes\", \"marker\": {\"color\": \"#00cc96\"}, \"name\": \"All other causes\", \"offsetgroup\": \"All other causes\", \"orientation\": \"v\", \"showlegend\": true, \"textposition\": \"auto\", \"x\": [\"All other causes\"], \"xaxis\": \"x\", \"y\": [10.1], \"yaxis\": \"y\", \"type\": \"bar\"}], \"name\": \"Nov 1855\"}, {\"data\": [{\"alignmentgroup\": \"True\", \"hovertemplate\": \"Cause of Mortality=%{x}<br>Month=Dec 1855<br>Annual rate of mortality (based on monthly rate)=%{y}<extra></extra>\", \"legendgroup\": \"Zymotic Diseases\", \"marker\": {\"color\": \"#636efa\"}, \"name\": \"Zymotic Diseases\", \"offsetgroup\": \"Zymotic Diseases\", \"orientation\": \"v\", \"showlegend\": true, \"textposition\": \"auto\", \"x\": [\"Zymotic Diseases\"], \"xaxis\": \"x\", \"y\": [25.3], \"yaxis\": \"y\", \"type\": \"bar\"}, {\"alignmentgroup\": \"True\", \"hovertemplate\": \"Cause of Mortality=%{x}<br>Month=Dec 1855<br>Annual rate of mortality (based on monthly rate)=%{y}<extra></extra>\", \"legendgroup\": \"Wounds & Injuries\", \"marker\": {\"color\": \"#EF553B\"}, \"name\": \"Wounds & Injuries\", \"offsetgroup\": \"Wounds & Injuries\", \"orientation\": \"v\", \"showlegend\": true, \"textposition\": \"auto\", \"x\": [\"Wounds & Injuries\"], \"xaxis\": \"x\", \"y\": [5.0], \"yaxis\": \"y\", \"type\": \"bar\"}, {\"alignmentgroup\": \"True\", \"hovertemplate\": \"Cause of Mortality=%{x}<br>Month=Dec 1855<br>Annual rate of mortality (based on monthly rate)=%{y}<extra></extra>\", \"legendgroup\": \"All other causes\", \"marker\": {\"color\": \"#00cc96\"}, \"name\": \"All other causes\", \"offsetgroup\": \"All other causes\", \"orientation\": \"v\", \"showlegend\": true, \"textposition\": \"auto\", \"x\": [\"All other causes\"], \"xaxis\": \"x\", \"y\": [7.8], \"yaxis\": \"y\", \"type\": \"bar\"}], \"name\": \"Dec 1855\"}, {\"data\": [{\"alignmentgroup\": \"True\", \"hovertemplate\": \"Cause of Mortality=%{x}<br>Month=Jan 1856<br>Annual rate of mortality (based on monthly rate)=%{y}<extra></extra>\", \"legendgroup\": \"Zymotic Diseases\", \"marker\": {\"color\": \"#636efa\"}, \"name\": \"Zymotic Diseases\", \"offsetgroup\": \"Zymotic Diseases\", \"orientation\": \"v\", \"showlegend\": true, \"textposition\": \"auto\", \"x\": [\"Zymotic Diseases\"], \"xaxis\": \"x\", \"y\": [11.4], \"yaxis\": \"y\", \"type\": \"bar\"}, {\"alignmentgroup\": \"True\", \"hovertemplate\": \"Cause of Mortality=%{x}<br>Month=Jan 1856<br>Annual rate of mortality (based on monthly rate)=%{y}<extra></extra>\", \"legendgroup\": \"Wounds & Injuries\", \"marker\": {\"color\": \"#EF553B\"}, \"name\": \"Wounds & Injuries\", \"offsetgroup\": \"Wounds & Injuries\", \"orientation\": \"v\", \"showlegend\": true, \"textposition\": \"auto\", \"x\": [\"Wounds & Injuries\"], \"xaxis\": \"x\", \"y\": [0.5], \"yaxis\": \"y\", \"type\": \"bar\"}, {\"alignmentgroup\": \"True\", \"hovertemplate\": \"Cause of Mortality=%{x}<br>Month=Jan 1856<br>Annual rate of mortality (based on monthly rate)=%{y}<extra></extra>\", \"legendgroup\": \"All other causes\", \"marker\": {\"color\": \"#00cc96\"}, \"name\": \"All other causes\", \"offsetgroup\": \"All other causes\", \"orientation\": \"v\", \"showlegend\": true, \"textposition\": \"auto\", \"x\": [\"All other causes\"], \"xaxis\": \"x\", \"y\": [13.0], \"yaxis\": \"y\", \"type\": \"bar\"}], \"name\": \"Jan 1856\"}, {\"data\": [{\"alignmentgroup\": \"True\", \"hovertemplate\": \"Cause of Mortality=%{x}<br>Month=Feb 1856<br>Annual rate of mortality (based on monthly rate)=%{y}<extra></extra>\", \"legendgroup\": \"Zymotic Diseases\", \"marker\": {\"color\": \"#636efa\"}, \"name\": \"Zymotic Diseases\", \"offsetgroup\": \"Zymotic Diseases\", \"orientation\": \"v\", \"showlegend\": true, \"textposition\": \"auto\", \"x\": [\"Zymotic Diseases\"], \"xaxis\": \"x\", \"y\": [6.6], \"yaxis\": \"y\", \"type\": \"bar\"}, {\"alignmentgroup\": \"True\", \"hovertemplate\": \"Cause of Mortality=%{x}<br>Month=Feb 1856<br>Annual rate of mortality (based on monthly rate)=%{y}<extra></extra>\", \"legendgroup\": \"Wounds & Injuries\", \"marker\": {\"color\": \"#EF553B\"}, \"name\": \"Wounds & Injuries\", \"offsetgroup\": \"Wounds & Injuries\", \"orientation\": \"v\", \"showlegend\": true, \"textposition\": \"auto\", \"x\": [\"Wounds & Injuries\"], \"xaxis\": \"x\", \"y\": [0.0], \"yaxis\": \"y\", \"type\": \"bar\"}, {\"alignmentgroup\": \"True\", \"hovertemplate\": \"Cause of Mortality=%{x}<br>Month=Feb 1856<br>Annual rate of mortality (based on monthly rate)=%{y}<extra></extra>\", \"legendgroup\": \"All other causes\", \"marker\": {\"color\": \"#00cc96\"}, \"name\": \"All other causes\", \"offsetgroup\": \"All other causes\", \"orientation\": \"v\", \"showlegend\": true, \"textposition\": \"auto\", \"x\": [\"All other causes\"], \"xaxis\": \"x\", \"y\": [5.2], \"yaxis\": \"y\", \"type\": \"bar\"}], \"name\": \"Feb 1856\"}, {\"data\": [{\"alignmentgroup\": \"True\", \"hovertemplate\": \"Cause of Mortality=%{x}<br>Month=Mar 1856<br>Annual rate of mortality (based on monthly rate)=%{y}<extra></extra>\", \"legendgroup\": \"Zymotic Diseases\", \"marker\": {\"color\": \"#636efa\"}, \"name\": \"Zymotic Diseases\", \"offsetgroup\": \"Zymotic Diseases\", \"orientation\": \"v\", \"showlegend\": true, \"textposition\": \"auto\", \"x\": [\"Zymotic Diseases\"], \"xaxis\": \"x\", \"y\": [3.9], \"yaxis\": \"y\", \"type\": \"bar\"}, {\"alignmentgroup\": \"True\", \"hovertemplate\": \"Cause of Mortality=%{x}<br>Month=Mar 1856<br>Annual rate of mortality (based on monthly rate)=%{y}<extra></extra>\", \"legendgroup\": \"Wounds & Injuries\", \"marker\": {\"color\": \"#EF553B\"}, \"name\": \"Wounds & Injuries\", \"offsetgroup\": \"Wounds & Injuries\", \"orientation\": \"v\", \"showlegend\": true, \"textposition\": \"auto\", \"x\": [\"Wounds & Injuries\"], \"xaxis\": \"x\", \"y\": [0.0], \"yaxis\": \"y\", \"type\": \"bar\"}, {\"alignmentgroup\": \"True\", \"hovertemplate\": \"Cause of Mortality=%{x}<br>Month=Mar 1856<br>Annual rate of mortality (based on monthly rate)=%{y}<extra></extra>\", \"legendgroup\": \"All other causes\", \"marker\": {\"color\": \"#00cc96\"}, \"name\": \"All other causes\", \"offsetgroup\": \"All other causes\", \"orientation\": \"v\", \"showlegend\": true, \"textposition\": \"auto\", \"x\": [\"All other causes\"], \"xaxis\": \"x\", \"y\": [9.1], \"yaxis\": \"y\", \"type\": \"bar\"}], \"name\": \"Mar 1856\"}]);\n",
       "                        }).then(function(){\n",
       "                            \n",
       "var gd = document.getElementById('897344d7-dcc7-4729-a22c-08128ab45706');\n",
       "var x = new MutationObserver(function (mutations, observer) {{\n",
       "        var display = window.getComputedStyle(gd).display;\n",
       "        if (!display || display === 'none') {{\n",
       "            console.log([gd, 'removed!']);\n",
       "            Plotly.purge(gd);\n",
       "            observer.disconnect();\n",
       "        }}\n",
       "}});\n",
       "\n",
       "// Listen for the removal of the full notebook cells\n",
       "var notebookContainer = gd.closest('#notebook-container');\n",
       "if (notebookContainer) {{\n",
       "    x.observe(notebookContainer, {childList: true});\n",
       "}}\n",
       "\n",
       "// Listen for the clearing of the current output cell\n",
       "var outputEl = gd.closest('.output');\n",
       "if (outputEl) {{\n",
       "    x.observe(outputEl, {childList: true});\n",
       "}}\n",
       "\n",
       "                        })                };                });            </script>        </div>"
      ]
     },
     "metadata": {},
     "output_type": "display_data"
    }
   ],
   "source": [
    "#create bar graph animation showing annual rates of mortality, by cause, by month\n",
    "arm_over_time = px.bar(df_long, x=\"Cause of Death\", y=\"Annual rate of mortality\",color=\"Cause of Death\",\n",
    "  animation_frame=\"Month\", range_y=[0,1100], title=\"Annual Rates of Mortality by Cause\", \n",
    "  labels={\"Annual rate of mortality\":\"Annual rate of mortality (based on monthly rate)\",\"Cause of Death\":\"Cause of Mortality\"})\n",
    "arm_over_time.show()"
   ]
  },
  {
   "cell_type": "markdown",
   "id": "welsh-trust",
   "metadata": {},
   "source": [
    "By following the changing rates across months, one can see that the annual rates of mortality associated with preventable zymotic diseases is consistently higher than those associated with other causes of death which are non-preventable. Notably, starting in April 1855 after additional sanitation measures are introduced, the annual rate of mortality by zymotic diseases decreases.\n",
    "In order to again emphasize the proportion of preventable, zymotic disease-associated deaths, as done in the month-by-month time lapse annual rate of mortality measures above, it would also be of use to see these patterns over the timespan of data collection. In order to compare the deaths that are preventable against those that are not, two new aggregate measures are introduced: the monthly annual rate of mortality from all causes of death, and the monthly annual rate of mortality from all non-preventable causes of death."
   ]
  },
  {
   "cell_type": "code",
   "execution_count": 50,
   "id": "lightweight-oregon",
   "metadata": {},
   "outputs": [],
   "source": [
    "#aggregates annual mortality rates due to zymotic disease, wounds & injuries, & other causes into one value for each month\n",
    "def aggregate_deaths (row):\n",
    "    death_total = row[\"Zymotic diseases AMR\"] + row[\"Wounds & injuries AMR\"] + row[\"All other causes AMR\"]\n",
    "    return death_total\n",
    "#aggregates annual mortality rates due to wounds & injuries & other causes, into one value for each month\n",
    "def aggregate_deaths_non_preventable (row):\n",
    "    death_total = row[\"Wounds & injuries AMR\"] + row[\"All other causes AMR\"]\n",
    "    return death_total\n"
   ]
  },
  {
   "cell_type": "code",
   "execution_count": 51,
   "id": "premier-jimmy",
   "metadata": {},
   "outputs": [],
   "source": [
    "df[\"All Deaths\"] = df.apply(lambda row: aggregate_deaths(row), axis=1)\n",
    "df[\"All Deaths without Preventable\"] = df.apply(lambda row: aggregate_deaths_non_preventable(row), axis=1)"
   ]
  },
  {
   "cell_type": "code",
   "execution_count": 52,
   "id": "worst-lewis",
   "metadata": {},
   "outputs": [
    {
     "data": {
      "application/vnd.plotly.v1+json": {
       "config": {
        "plotlyServerURL": "https://plot.ly"
       },
       "data": [
        {
         "name": "AMR",
         "type": "scatter",
         "x": [
          "Apr 1854",
          "May 1854",
          "Jun 1854",
          "Jul 1854",
          "Aug 1854",
          "Sep 1854",
          "Oct 1854",
          "Nov 1854",
          "Dec 1854",
          "Jan 1855",
          "Feb 1855",
          "Mar 1855",
          "Apr 1855",
          "May 1855",
          "Jun 1855",
          "Jul 1855",
          "Aug 1855",
          "Sep 1855",
          "Oct 1855",
          "Nov 1855",
          "Dec 1855",
          "Jan 1856",
          "Feb 1856",
          "Mar 1856"
         ],
         "y": [
          8.4,
          10.8,
          7.2,
          159.6,
          340.79999999999995,
          372,
          298.8,
          499.20000000000005,
          721.2,
          1173.5,
          979.1999999999999,
          561.7,
          216.6,
          200.9,
          321.70000000000005,
          154.5,
          180.7,
          121.9,
          51,
          77,
          38.1,
          24.9,
          11.8,
          13
         ]
        },
        {
         "line": {
          "dash": "dash"
         },
         "name": "AMR, excluding zymotic",
         "type": "scatter",
         "x": [
          "Apr 1854",
          "May 1854",
          "Jun 1854",
          "Jul 1854",
          "Aug 1854",
          "Sep 1854",
          "Oct 1854",
          "Nov 1854",
          "Dec 1854",
          "Jan 1855",
          "Feb 1855",
          "Mar 1855",
          "Apr 1855",
          "May 1855",
          "Jun 1855",
          "Jul 1855",
          "Aug 1855",
          "Sep 1855",
          "Oct 1855",
          "Nov 1855",
          "Dec 1855",
          "Jan 1856",
          "Feb 1856",
          "Mar 1856"
         ],
         "y": [
          7,
          4.6,
          2.5,
          9.6,
          12.3,
          59.8,
          101.80000000000001,
          158.6,
          89.7,
          150.7,
          156.4,
          81.39999999999999,
          39.099999999999994,
          29.1,
          74.1,
          47,
          50.800000000000004,
          74.4,
          18.2,
          20.6,
          12.8,
          13.5,
          5.2,
          9.1
         ]
        }
       ],
       "layout": {
        "hovermode": "x",
        "shapes": [
         {
          "line": {
           "dash": "dash",
           "width": 1
          },
          "type": "line",
          "x0": "April 1855",
          "x1": "April 1855",
          "xref": "x",
          "y0": 0,
          "y1": 1,
          "yref": "y domain"
         }
        ],
        "template": {
         "data": {
          "bar": [
           {
            "error_x": {
             "color": "#2a3f5f"
            },
            "error_y": {
             "color": "#2a3f5f"
            },
            "marker": {
             "line": {
              "color": "#E5ECF6",
              "width": 0.5
             }
            },
            "type": "bar"
           }
          ],
          "barpolar": [
           {
            "marker": {
             "line": {
              "color": "#E5ECF6",
              "width": 0.5
             }
            },
            "type": "barpolar"
           }
          ],
          "carpet": [
           {
            "aaxis": {
             "endlinecolor": "#2a3f5f",
             "gridcolor": "white",
             "linecolor": "white",
             "minorgridcolor": "white",
             "startlinecolor": "#2a3f5f"
            },
            "baxis": {
             "endlinecolor": "#2a3f5f",
             "gridcolor": "white",
             "linecolor": "white",
             "minorgridcolor": "white",
             "startlinecolor": "#2a3f5f"
            },
            "type": "carpet"
           }
          ],
          "choropleth": [
           {
            "colorbar": {
             "outlinewidth": 0,
             "ticks": ""
            },
            "type": "choropleth"
           }
          ],
          "contour": [
           {
            "colorbar": {
             "outlinewidth": 0,
             "ticks": ""
            },
            "colorscale": [
             [
              0,
              "#0d0887"
             ],
             [
              0.1111111111111111,
              "#46039f"
             ],
             [
              0.2222222222222222,
              "#7201a8"
             ],
             [
              0.3333333333333333,
              "#9c179e"
             ],
             [
              0.4444444444444444,
              "#bd3786"
             ],
             [
              0.5555555555555556,
              "#d8576b"
             ],
             [
              0.6666666666666666,
              "#ed7953"
             ],
             [
              0.7777777777777778,
              "#fb9f3a"
             ],
             [
              0.8888888888888888,
              "#fdca26"
             ],
             [
              1,
              "#f0f921"
             ]
            ],
            "type": "contour"
           }
          ],
          "contourcarpet": [
           {
            "colorbar": {
             "outlinewidth": 0,
             "ticks": ""
            },
            "type": "contourcarpet"
           }
          ],
          "heatmap": [
           {
            "colorbar": {
             "outlinewidth": 0,
             "ticks": ""
            },
            "colorscale": [
             [
              0,
              "#0d0887"
             ],
             [
              0.1111111111111111,
              "#46039f"
             ],
             [
              0.2222222222222222,
              "#7201a8"
             ],
             [
              0.3333333333333333,
              "#9c179e"
             ],
             [
              0.4444444444444444,
              "#bd3786"
             ],
             [
              0.5555555555555556,
              "#d8576b"
             ],
             [
              0.6666666666666666,
              "#ed7953"
             ],
             [
              0.7777777777777778,
              "#fb9f3a"
             ],
             [
              0.8888888888888888,
              "#fdca26"
             ],
             [
              1,
              "#f0f921"
             ]
            ],
            "type": "heatmap"
           }
          ],
          "heatmapgl": [
           {
            "colorbar": {
             "outlinewidth": 0,
             "ticks": ""
            },
            "colorscale": [
             [
              0,
              "#0d0887"
             ],
             [
              0.1111111111111111,
              "#46039f"
             ],
             [
              0.2222222222222222,
              "#7201a8"
             ],
             [
              0.3333333333333333,
              "#9c179e"
             ],
             [
              0.4444444444444444,
              "#bd3786"
             ],
             [
              0.5555555555555556,
              "#d8576b"
             ],
             [
              0.6666666666666666,
              "#ed7953"
             ],
             [
              0.7777777777777778,
              "#fb9f3a"
             ],
             [
              0.8888888888888888,
              "#fdca26"
             ],
             [
              1,
              "#f0f921"
             ]
            ],
            "type": "heatmapgl"
           }
          ],
          "histogram": [
           {
            "marker": {
             "colorbar": {
              "outlinewidth": 0,
              "ticks": ""
             }
            },
            "type": "histogram"
           }
          ],
          "histogram2d": [
           {
            "colorbar": {
             "outlinewidth": 0,
             "ticks": ""
            },
            "colorscale": [
             [
              0,
              "#0d0887"
             ],
             [
              0.1111111111111111,
              "#46039f"
             ],
             [
              0.2222222222222222,
              "#7201a8"
             ],
             [
              0.3333333333333333,
              "#9c179e"
             ],
             [
              0.4444444444444444,
              "#bd3786"
             ],
             [
              0.5555555555555556,
              "#d8576b"
             ],
             [
              0.6666666666666666,
              "#ed7953"
             ],
             [
              0.7777777777777778,
              "#fb9f3a"
             ],
             [
              0.8888888888888888,
              "#fdca26"
             ],
             [
              1,
              "#f0f921"
             ]
            ],
            "type": "histogram2d"
           }
          ],
          "histogram2dcontour": [
           {
            "colorbar": {
             "outlinewidth": 0,
             "ticks": ""
            },
            "colorscale": [
             [
              0,
              "#0d0887"
             ],
             [
              0.1111111111111111,
              "#46039f"
             ],
             [
              0.2222222222222222,
              "#7201a8"
             ],
             [
              0.3333333333333333,
              "#9c179e"
             ],
             [
              0.4444444444444444,
              "#bd3786"
             ],
             [
              0.5555555555555556,
              "#d8576b"
             ],
             [
              0.6666666666666666,
              "#ed7953"
             ],
             [
              0.7777777777777778,
              "#fb9f3a"
             ],
             [
              0.8888888888888888,
              "#fdca26"
             ],
             [
              1,
              "#f0f921"
             ]
            ],
            "type": "histogram2dcontour"
           }
          ],
          "mesh3d": [
           {
            "colorbar": {
             "outlinewidth": 0,
             "ticks": ""
            },
            "type": "mesh3d"
           }
          ],
          "parcoords": [
           {
            "line": {
             "colorbar": {
              "outlinewidth": 0,
              "ticks": ""
             }
            },
            "type": "parcoords"
           }
          ],
          "pie": [
           {
            "automargin": true,
            "type": "pie"
           }
          ],
          "scatter": [
           {
            "marker": {
             "colorbar": {
              "outlinewidth": 0,
              "ticks": ""
             }
            },
            "type": "scatter"
           }
          ],
          "scatter3d": [
           {
            "line": {
             "colorbar": {
              "outlinewidth": 0,
              "ticks": ""
             }
            },
            "marker": {
             "colorbar": {
              "outlinewidth": 0,
              "ticks": ""
             }
            },
            "type": "scatter3d"
           }
          ],
          "scattercarpet": [
           {
            "marker": {
             "colorbar": {
              "outlinewidth": 0,
              "ticks": ""
             }
            },
            "type": "scattercarpet"
           }
          ],
          "scattergeo": [
           {
            "marker": {
             "colorbar": {
              "outlinewidth": 0,
              "ticks": ""
             }
            },
            "type": "scattergeo"
           }
          ],
          "scattergl": [
           {
            "marker": {
             "colorbar": {
              "outlinewidth": 0,
              "ticks": ""
             }
            },
            "type": "scattergl"
           }
          ],
          "scattermapbox": [
           {
            "marker": {
             "colorbar": {
              "outlinewidth": 0,
              "ticks": ""
             }
            },
            "type": "scattermapbox"
           }
          ],
          "scatterpolar": [
           {
            "marker": {
             "colorbar": {
              "outlinewidth": 0,
              "ticks": ""
             }
            },
            "type": "scatterpolar"
           }
          ],
          "scatterpolargl": [
           {
            "marker": {
             "colorbar": {
              "outlinewidth": 0,
              "ticks": ""
             }
            },
            "type": "scatterpolargl"
           }
          ],
          "scatterternary": [
           {
            "marker": {
             "colorbar": {
              "outlinewidth": 0,
              "ticks": ""
             }
            },
            "type": "scatterternary"
           }
          ],
          "surface": [
           {
            "colorbar": {
             "outlinewidth": 0,
             "ticks": ""
            },
            "colorscale": [
             [
              0,
              "#0d0887"
             ],
             [
              0.1111111111111111,
              "#46039f"
             ],
             [
              0.2222222222222222,
              "#7201a8"
             ],
             [
              0.3333333333333333,
              "#9c179e"
             ],
             [
              0.4444444444444444,
              "#bd3786"
             ],
             [
              0.5555555555555556,
              "#d8576b"
             ],
             [
              0.6666666666666666,
              "#ed7953"
             ],
             [
              0.7777777777777778,
              "#fb9f3a"
             ],
             [
              0.8888888888888888,
              "#fdca26"
             ],
             [
              1,
              "#f0f921"
             ]
            ],
            "type": "surface"
           }
          ],
          "table": [
           {
            "cells": {
             "fill": {
              "color": "#EBF0F8"
             },
             "line": {
              "color": "white"
             }
            },
            "header": {
             "fill": {
              "color": "#C8D4E3"
             },
             "line": {
              "color": "white"
             }
            },
            "type": "table"
           }
          ]
         },
         "layout": {
          "annotationdefaults": {
           "arrowcolor": "#2a3f5f",
           "arrowhead": 0,
           "arrowwidth": 1
          },
          "autotypenumbers": "strict",
          "coloraxis": {
           "colorbar": {
            "outlinewidth": 0,
            "ticks": ""
           }
          },
          "colorscale": {
           "diverging": [
            [
             0,
             "#8e0152"
            ],
            [
             0.1,
             "#c51b7d"
            ],
            [
             0.2,
             "#de77ae"
            ],
            [
             0.3,
             "#f1b6da"
            ],
            [
             0.4,
             "#fde0ef"
            ],
            [
             0.5,
             "#f7f7f7"
            ],
            [
             0.6,
             "#e6f5d0"
            ],
            [
             0.7,
             "#b8e186"
            ],
            [
             0.8,
             "#7fbc41"
            ],
            [
             0.9,
             "#4d9221"
            ],
            [
             1,
             "#276419"
            ]
           ],
           "sequential": [
            [
             0,
             "#0d0887"
            ],
            [
             0.1111111111111111,
             "#46039f"
            ],
            [
             0.2222222222222222,
             "#7201a8"
            ],
            [
             0.3333333333333333,
             "#9c179e"
            ],
            [
             0.4444444444444444,
             "#bd3786"
            ],
            [
             0.5555555555555556,
             "#d8576b"
            ],
            [
             0.6666666666666666,
             "#ed7953"
            ],
            [
             0.7777777777777778,
             "#fb9f3a"
            ],
            [
             0.8888888888888888,
             "#fdca26"
            ],
            [
             1,
             "#f0f921"
            ]
           ],
           "sequentialminus": [
            [
             0,
             "#0d0887"
            ],
            [
             0.1111111111111111,
             "#46039f"
            ],
            [
             0.2222222222222222,
             "#7201a8"
            ],
            [
             0.3333333333333333,
             "#9c179e"
            ],
            [
             0.4444444444444444,
             "#bd3786"
            ],
            [
             0.5555555555555556,
             "#d8576b"
            ],
            [
             0.6666666666666666,
             "#ed7953"
            ],
            [
             0.7777777777777778,
             "#fb9f3a"
            ],
            [
             0.8888888888888888,
             "#fdca26"
            ],
            [
             1,
             "#f0f921"
            ]
           ]
          },
          "colorway": [
           "#636efa",
           "#EF553B",
           "#00cc96",
           "#ab63fa",
           "#FFA15A",
           "#19d3f3",
           "#FF6692",
           "#B6E880",
           "#FF97FF",
           "#FECB52"
          ],
          "font": {
           "color": "#2a3f5f"
          },
          "geo": {
           "bgcolor": "white",
           "lakecolor": "white",
           "landcolor": "#E5ECF6",
           "showlakes": true,
           "showland": true,
           "subunitcolor": "white"
          },
          "hoverlabel": {
           "align": "left"
          },
          "hovermode": "closest",
          "mapbox": {
           "style": "light"
          },
          "paper_bgcolor": "white",
          "plot_bgcolor": "#E5ECF6",
          "polar": {
           "angularaxis": {
            "gridcolor": "white",
            "linecolor": "white",
            "ticks": ""
           },
           "bgcolor": "#E5ECF6",
           "radialaxis": {
            "gridcolor": "white",
            "linecolor": "white",
            "ticks": ""
           }
          },
          "scene": {
           "xaxis": {
            "backgroundcolor": "#E5ECF6",
            "gridcolor": "white",
            "gridwidth": 2,
            "linecolor": "white",
            "showbackground": true,
            "ticks": "",
            "zerolinecolor": "white"
           },
           "yaxis": {
            "backgroundcolor": "#E5ECF6",
            "gridcolor": "white",
            "gridwidth": 2,
            "linecolor": "white",
            "showbackground": true,
            "ticks": "",
            "zerolinecolor": "white"
           },
           "zaxis": {
            "backgroundcolor": "#E5ECF6",
            "gridcolor": "white",
            "gridwidth": 2,
            "linecolor": "white",
            "showbackground": true,
            "ticks": "",
            "zerolinecolor": "white"
           }
          },
          "shapedefaults": {
           "line": {
            "color": "#2a3f5f"
           }
          },
          "ternary": {
           "aaxis": {
            "gridcolor": "white",
            "linecolor": "white",
            "ticks": ""
           },
           "baxis": {
            "gridcolor": "white",
            "linecolor": "white",
            "ticks": ""
           },
           "bgcolor": "#E5ECF6",
           "caxis": {
            "gridcolor": "white",
            "linecolor": "white",
            "ticks": ""
           }
          },
          "title": {
           "x": 0.05
          },
          "xaxis": {
           "automargin": true,
           "gridcolor": "white",
           "linecolor": "white",
           "ticks": "",
           "title": {
            "standoff": 15
           },
           "zerolinecolor": "white",
           "zerolinewidth": 2
          },
          "yaxis": {
           "automargin": true,
           "gridcolor": "white",
           "linecolor": "white",
           "ticks": "",
           "title": {
            "standoff": 15
           },
           "zerolinecolor": "white",
           "zerolinewidth": 2
          }
         }
        },
        "title": {
         "text": "Annual Mortality Rates by Month"
        },
        "xaxis": {
         "rangeslider": {
          "visible": true
         },
         "type": "category"
        },
        "yaxis": {
         "title": {
          "text": "Annual Mortality Rate"
         }
        }
       }
      },
      "text/html": [
       "<div>                            <div id=\"b09f56a5-5353-4c53-b2ca-2dbd6d4d3202\" class=\"plotly-graph-div\" style=\"height:525px; width:100%;\"></div>            <script type=\"text/javascript\">                require([\"plotly\"], function(Plotly) {                    window.PLOTLYENV=window.PLOTLYENV || {};                                    if (document.getElementById(\"b09f56a5-5353-4c53-b2ca-2dbd6d4d3202\")) {                    Plotly.newPlot(                        \"b09f56a5-5353-4c53-b2ca-2dbd6d4d3202\",                        [{\"name\": \"AMR\", \"type\": \"scatter\", \"x\": [\"Apr 1854\", \"May 1854\", \"Jun 1854\", \"Jul 1854\", \"Aug 1854\", \"Sep 1854\", \"Oct 1854\", \"Nov 1854\", \"Dec 1854\", \"Jan 1855\", \"Feb 1855\", \"Mar 1855\", \"Apr 1855\", \"May 1855\", \"Jun 1855\", \"Jul 1855\", \"Aug 1855\", \"Sep 1855\", \"Oct 1855\", \"Nov 1855\", \"Dec 1855\", \"Jan 1856\", \"Feb 1856\", \"Mar 1856\"], \"y\": [8.4, 10.8, 7.2, 159.6, 340.79999999999995, 372.0, 298.8, 499.20000000000005, 721.2, 1173.5, 979.1999999999999, 561.7, 216.6, 200.9, 321.70000000000005, 154.5, 180.7, 121.9, 51.0, 77.0, 38.1, 24.9, 11.8, 13.0]}, {\"line\": {\"dash\": \"dash\"}, \"name\": \"AMR, excluding zymotic\", \"type\": \"scatter\", \"x\": [\"Apr 1854\", \"May 1854\", \"Jun 1854\", \"Jul 1854\", \"Aug 1854\", \"Sep 1854\", \"Oct 1854\", \"Nov 1854\", \"Dec 1854\", \"Jan 1855\", \"Feb 1855\", \"Mar 1855\", \"Apr 1855\", \"May 1855\", \"Jun 1855\", \"Jul 1855\", \"Aug 1855\", \"Sep 1855\", \"Oct 1855\", \"Nov 1855\", \"Dec 1855\", \"Jan 1856\", \"Feb 1856\", \"Mar 1856\"], \"y\": [7.0, 4.6, 2.5, 9.6, 12.3, 59.8, 101.80000000000001, 158.6, 89.7, 150.7, 156.4, 81.39999999999999, 39.099999999999994, 29.1, 74.1, 47.0, 50.800000000000004, 74.4, 18.2, 20.6, 12.8, 13.5, 5.2, 9.1]}],                        {\"hovermode\": \"x\", \"shapes\": [{\"line\": {\"dash\": \"dash\", \"width\": 1}, \"type\": \"line\", \"x0\": \"April 1855\", \"x1\": \"April 1855\", \"xref\": \"x\", \"y0\": 0, \"y1\": 1, \"yref\": \"y domain\"}], \"template\": {\"data\": {\"bar\": [{\"error_x\": {\"color\": \"#2a3f5f\"}, \"error_y\": {\"color\": \"#2a3f5f\"}, \"marker\": {\"line\": {\"color\": \"#E5ECF6\", \"width\": 0.5}}, \"type\": \"bar\"}], \"barpolar\": [{\"marker\": {\"line\": {\"color\": \"#E5ECF6\", \"width\": 0.5}}, \"type\": \"barpolar\"}], \"carpet\": [{\"aaxis\": {\"endlinecolor\": \"#2a3f5f\", \"gridcolor\": \"white\", \"linecolor\": \"white\", \"minorgridcolor\": \"white\", \"startlinecolor\": \"#2a3f5f\"}, \"baxis\": {\"endlinecolor\": \"#2a3f5f\", \"gridcolor\": \"white\", \"linecolor\": \"white\", \"minorgridcolor\": \"white\", \"startlinecolor\": \"#2a3f5f\"}, \"type\": \"carpet\"}], \"choropleth\": [{\"colorbar\": {\"outlinewidth\": 0, \"ticks\": \"\"}, \"type\": \"choropleth\"}], \"contour\": [{\"colorbar\": {\"outlinewidth\": 0, \"ticks\": \"\"}, \"colorscale\": [[0.0, \"#0d0887\"], [0.1111111111111111, \"#46039f\"], [0.2222222222222222, \"#7201a8\"], [0.3333333333333333, \"#9c179e\"], [0.4444444444444444, \"#bd3786\"], [0.5555555555555556, \"#d8576b\"], [0.6666666666666666, \"#ed7953\"], [0.7777777777777778, \"#fb9f3a\"], [0.8888888888888888, \"#fdca26\"], [1.0, \"#f0f921\"]], \"type\": \"contour\"}], \"contourcarpet\": [{\"colorbar\": {\"outlinewidth\": 0, \"ticks\": \"\"}, \"type\": \"contourcarpet\"}], \"heatmap\": [{\"colorbar\": {\"outlinewidth\": 0, \"ticks\": \"\"}, \"colorscale\": [[0.0, \"#0d0887\"], [0.1111111111111111, \"#46039f\"], [0.2222222222222222, \"#7201a8\"], [0.3333333333333333, \"#9c179e\"], [0.4444444444444444, \"#bd3786\"], [0.5555555555555556, \"#d8576b\"], [0.6666666666666666, \"#ed7953\"], [0.7777777777777778, \"#fb9f3a\"], [0.8888888888888888, \"#fdca26\"], [1.0, \"#f0f921\"]], \"type\": \"heatmap\"}], \"heatmapgl\": [{\"colorbar\": {\"outlinewidth\": 0, \"ticks\": \"\"}, \"colorscale\": [[0.0, \"#0d0887\"], [0.1111111111111111, \"#46039f\"], [0.2222222222222222, \"#7201a8\"], [0.3333333333333333, \"#9c179e\"], [0.4444444444444444, \"#bd3786\"], [0.5555555555555556, \"#d8576b\"], [0.6666666666666666, \"#ed7953\"], [0.7777777777777778, \"#fb9f3a\"], [0.8888888888888888, \"#fdca26\"], [1.0, \"#f0f921\"]], \"type\": \"heatmapgl\"}], \"histogram\": [{\"marker\": {\"colorbar\": {\"outlinewidth\": 0, \"ticks\": \"\"}}, \"type\": \"histogram\"}], \"histogram2d\": [{\"colorbar\": {\"outlinewidth\": 0, \"ticks\": \"\"}, \"colorscale\": [[0.0, \"#0d0887\"], [0.1111111111111111, \"#46039f\"], [0.2222222222222222, \"#7201a8\"], [0.3333333333333333, \"#9c179e\"], [0.4444444444444444, \"#bd3786\"], [0.5555555555555556, \"#d8576b\"], [0.6666666666666666, \"#ed7953\"], [0.7777777777777778, \"#fb9f3a\"], [0.8888888888888888, \"#fdca26\"], [1.0, \"#f0f921\"]], \"type\": \"histogram2d\"}], \"histogram2dcontour\": [{\"colorbar\": {\"outlinewidth\": 0, \"ticks\": \"\"}, \"colorscale\": [[0.0, \"#0d0887\"], [0.1111111111111111, \"#46039f\"], [0.2222222222222222, \"#7201a8\"], [0.3333333333333333, \"#9c179e\"], [0.4444444444444444, \"#bd3786\"], [0.5555555555555556, \"#d8576b\"], [0.6666666666666666, \"#ed7953\"], [0.7777777777777778, \"#fb9f3a\"], [0.8888888888888888, \"#fdca26\"], [1.0, \"#f0f921\"]], \"type\": \"histogram2dcontour\"}], \"mesh3d\": [{\"colorbar\": {\"outlinewidth\": 0, \"ticks\": \"\"}, \"type\": \"mesh3d\"}], \"parcoords\": [{\"line\": {\"colorbar\": {\"outlinewidth\": 0, \"ticks\": \"\"}}, \"type\": \"parcoords\"}], \"pie\": [{\"automargin\": true, \"type\": \"pie\"}], \"scatter\": [{\"marker\": {\"colorbar\": {\"outlinewidth\": 0, \"ticks\": \"\"}}, \"type\": \"scatter\"}], \"scatter3d\": [{\"line\": {\"colorbar\": {\"outlinewidth\": 0, \"ticks\": \"\"}}, \"marker\": {\"colorbar\": {\"outlinewidth\": 0, \"ticks\": \"\"}}, \"type\": \"scatter3d\"}], \"scattercarpet\": [{\"marker\": {\"colorbar\": {\"outlinewidth\": 0, \"ticks\": \"\"}}, \"type\": \"scattercarpet\"}], \"scattergeo\": [{\"marker\": {\"colorbar\": {\"outlinewidth\": 0, \"ticks\": \"\"}}, \"type\": \"scattergeo\"}], \"scattergl\": [{\"marker\": {\"colorbar\": {\"outlinewidth\": 0, \"ticks\": \"\"}}, \"type\": \"scattergl\"}], \"scattermapbox\": [{\"marker\": {\"colorbar\": {\"outlinewidth\": 0, \"ticks\": \"\"}}, \"type\": \"scattermapbox\"}], \"scatterpolar\": [{\"marker\": {\"colorbar\": {\"outlinewidth\": 0, \"ticks\": \"\"}}, \"type\": \"scatterpolar\"}], \"scatterpolargl\": [{\"marker\": {\"colorbar\": {\"outlinewidth\": 0, \"ticks\": \"\"}}, \"type\": \"scatterpolargl\"}], \"scatterternary\": [{\"marker\": {\"colorbar\": {\"outlinewidth\": 0, \"ticks\": \"\"}}, \"type\": \"scatterternary\"}], \"surface\": [{\"colorbar\": {\"outlinewidth\": 0, \"ticks\": \"\"}, \"colorscale\": [[0.0, \"#0d0887\"], [0.1111111111111111, \"#46039f\"], [0.2222222222222222, \"#7201a8\"], [0.3333333333333333, \"#9c179e\"], [0.4444444444444444, \"#bd3786\"], [0.5555555555555556, \"#d8576b\"], [0.6666666666666666, \"#ed7953\"], [0.7777777777777778, \"#fb9f3a\"], [0.8888888888888888, \"#fdca26\"], [1.0, \"#f0f921\"]], \"type\": \"surface\"}], \"table\": [{\"cells\": {\"fill\": {\"color\": \"#EBF0F8\"}, \"line\": {\"color\": \"white\"}}, \"header\": {\"fill\": {\"color\": \"#C8D4E3\"}, \"line\": {\"color\": \"white\"}}, \"type\": \"table\"}]}, \"layout\": {\"annotationdefaults\": {\"arrowcolor\": \"#2a3f5f\", \"arrowhead\": 0, \"arrowwidth\": 1}, \"autotypenumbers\": \"strict\", \"coloraxis\": {\"colorbar\": {\"outlinewidth\": 0, \"ticks\": \"\"}}, \"colorscale\": {\"diverging\": [[0, \"#8e0152\"], [0.1, \"#c51b7d\"], [0.2, \"#de77ae\"], [0.3, \"#f1b6da\"], [0.4, \"#fde0ef\"], [0.5, \"#f7f7f7\"], [0.6, \"#e6f5d0\"], [0.7, \"#b8e186\"], [0.8, \"#7fbc41\"], [0.9, \"#4d9221\"], [1, \"#276419\"]], \"sequential\": [[0.0, \"#0d0887\"], [0.1111111111111111, \"#46039f\"], [0.2222222222222222, \"#7201a8\"], [0.3333333333333333, \"#9c179e\"], [0.4444444444444444, \"#bd3786\"], [0.5555555555555556, \"#d8576b\"], [0.6666666666666666, \"#ed7953\"], [0.7777777777777778, \"#fb9f3a\"], [0.8888888888888888, \"#fdca26\"], [1.0, \"#f0f921\"]], \"sequentialminus\": [[0.0, \"#0d0887\"], [0.1111111111111111, \"#46039f\"], [0.2222222222222222, \"#7201a8\"], [0.3333333333333333, \"#9c179e\"], [0.4444444444444444, \"#bd3786\"], [0.5555555555555556, \"#d8576b\"], [0.6666666666666666, \"#ed7953\"], [0.7777777777777778, \"#fb9f3a\"], [0.8888888888888888, \"#fdca26\"], [1.0, \"#f0f921\"]]}, \"colorway\": [\"#636efa\", \"#EF553B\", \"#00cc96\", \"#ab63fa\", \"#FFA15A\", \"#19d3f3\", \"#FF6692\", \"#B6E880\", \"#FF97FF\", \"#FECB52\"], \"font\": {\"color\": \"#2a3f5f\"}, \"geo\": {\"bgcolor\": \"white\", \"lakecolor\": \"white\", \"landcolor\": \"#E5ECF6\", \"showlakes\": true, \"showland\": true, \"subunitcolor\": \"white\"}, \"hoverlabel\": {\"align\": \"left\"}, \"hovermode\": \"closest\", \"mapbox\": {\"style\": \"light\"}, \"paper_bgcolor\": \"white\", \"plot_bgcolor\": \"#E5ECF6\", \"polar\": {\"angularaxis\": {\"gridcolor\": \"white\", \"linecolor\": \"white\", \"ticks\": \"\"}, \"bgcolor\": \"#E5ECF6\", \"radialaxis\": {\"gridcolor\": \"white\", \"linecolor\": \"white\", \"ticks\": \"\"}}, \"scene\": {\"xaxis\": {\"backgroundcolor\": \"#E5ECF6\", \"gridcolor\": \"white\", \"gridwidth\": 2, \"linecolor\": \"white\", \"showbackground\": true, \"ticks\": \"\", \"zerolinecolor\": \"white\"}, \"yaxis\": {\"backgroundcolor\": \"#E5ECF6\", \"gridcolor\": \"white\", \"gridwidth\": 2, \"linecolor\": \"white\", \"showbackground\": true, \"ticks\": \"\", \"zerolinecolor\": \"white\"}, \"zaxis\": {\"backgroundcolor\": \"#E5ECF6\", \"gridcolor\": \"white\", \"gridwidth\": 2, \"linecolor\": \"white\", \"showbackground\": true, \"ticks\": \"\", \"zerolinecolor\": \"white\"}}, \"shapedefaults\": {\"line\": {\"color\": \"#2a3f5f\"}}, \"ternary\": {\"aaxis\": {\"gridcolor\": \"white\", \"linecolor\": \"white\", \"ticks\": \"\"}, \"baxis\": {\"gridcolor\": \"white\", \"linecolor\": \"white\", \"ticks\": \"\"}, \"bgcolor\": \"#E5ECF6\", \"caxis\": {\"gridcolor\": \"white\", \"linecolor\": \"white\", \"ticks\": \"\"}}, \"title\": {\"x\": 0.05}, \"xaxis\": {\"automargin\": true, \"gridcolor\": \"white\", \"linecolor\": \"white\", \"ticks\": \"\", \"title\": {\"standoff\": 15}, \"zerolinecolor\": \"white\", \"zerolinewidth\": 2}, \"yaxis\": {\"automargin\": true, \"gridcolor\": \"white\", \"linecolor\": \"white\", \"ticks\": \"\", \"title\": {\"standoff\": 15}, \"zerolinecolor\": \"white\", \"zerolinewidth\": 2}}}, \"title\": {\"text\": \"Annual Mortality Rates by Month\"}, \"xaxis\": {\"rangeslider\": {\"visible\": true}, \"type\": \"category\"}, \"yaxis\": {\"title\": {\"text\": \"Annual Mortality Rate\"}}},                        {\"responsive\": true}                    ).then(function(){\n",
       "                            \n",
       "var gd = document.getElementById('b09f56a5-5353-4c53-b2ca-2dbd6d4d3202');\n",
       "var x = new MutationObserver(function (mutations, observer) {{\n",
       "        var display = window.getComputedStyle(gd).display;\n",
       "        if (!display || display === 'none') {{\n",
       "            console.log([gd, 'removed!']);\n",
       "            Plotly.purge(gd);\n",
       "            observer.disconnect();\n",
       "        }}\n",
       "}});\n",
       "\n",
       "// Listen for the removal of the full notebook cells\n",
       "var notebookContainer = gd.closest('#notebook-container');\n",
       "if (notebookContainer) {{\n",
       "    x.observe(notebookContainer, {childList: true});\n",
       "}}\n",
       "\n",
       "// Listen for the clearing of the current output cell\n",
       "var outputEl = gd.closest('.output');\n",
       "if (outputEl) {{\n",
       "    x.observe(outputEl, {childList: true});\n",
       "}}\n",
       "\n",
       "                        })                };                });            </script>        </div>"
      ]
     },
     "metadata": {},
     "output_type": "display_data"
    }
   ],
   "source": [
    "fig = go.Figure()\n",
    "fig.add_trace(\n",
    "    go.Scatter(x=df[\"Month\"],y=df[\"All Deaths\"], name=\"AMR\")\n",
    ")\n",
    "fig.add_trace(\n",
    "    go.Scatter(x=df[\"Month\"],y=df[\"All Deaths without Preventable\"], name=\"AMR, excluding zymotic\", line=dict(dash=\"dash\"))\n",
    ")\n",
    "fig.update_layout(\n",
    "    xaxis=dict(\n",
    "        rangeslider=dict(\n",
    "            visible=True\n",
    "        ),\n",
    "        type=\"category\"\n",
    "    ),\n",
    "    #sets default of hover to list all variables\n",
    "    hovermode='x',\n",
    "    title=\"Annual Mortality Rates by Month\",\n",
    "    yaxis_title=\"Annual Mortality Rate\"\n",
    ")\n",
    "fig.add_vline(x=\"April 1855\",line_width=1, line_dash=\"dash\",)"
   ]
  },
  {
   "cell_type": "markdown",
   "id": "loaded-module",
   "metadata": {},
   "source": [
    "These diagrams allow for focused comparisons to be made between the estimated annual rates of mortality based on monthly death toll proportions, with the impacts of zymotic diseases and without.\n",
    "The dashed line for April 1855 represents the beginning of improvements to hospital conditions, and the ensuing annual mortality rate falling. \n",
    "This emphasizes the impacts that sanitary conditions had on enabling a much lower AMR that more closely matches that annual mortality rate if zymotic disease-related deaths are at 0. \n",
    "Using the range selector the viewer may adjust the period of time to more closely examine the drastic difference between the real and hypothetical AMRs, for example in January of 1855, at the peak of zymotic-disease associated deaths. Showing that these lines later on almost converge, illustrates that gaps in care were manufacturing a much more severe death toll. With basic improvements, the AMR due to zymotic disease is visibly reduced to the goal of 0 deaths due to zymotic disease.\n",
    "In creating this juxtaposition, it is my aim to emphasize Nightingale's persuasive argument for basic improvements to sanitary conditions."
   ]
  },
  {
   "cell_type": "markdown",
   "id": "wound-september",
   "metadata": {},
   "source": [
    "## References\n",
    "\n",
    "http://understandinguncertainty.org/node/213\n",
    "\n",
    "http://understandinguncertainty.org/node/214\n",
    "\n",
    "https://timelyportfolio.github.io/rCharts_micropolar/nightingale/index.html\n",
    "\n",
    "http://www.florence-nightingale-avenging-angel.co.uk/?page_id=2382"
   ]
  },
  {
   "cell_type": "code",
   "execution_count": null,
   "id": "acquired-birth",
   "metadata": {},
   "outputs": [],
   "source": []
  }
 ],
 "metadata": {
  "kernelspec": {
   "display_name": "Python 3",
   "language": "python",
   "name": "python3"
  },
  "language_info": {
   "codemirror_mode": {
    "name": "ipython",
    "version": 3
   },
   "file_extension": ".py",
   "mimetype": "text/x-python",
   "name": "python",
   "nbconvert_exporter": "python",
   "pygments_lexer": "ipython3",
   "version": "3.8.5"
  }
 },
 "nbformat": 4,
 "nbformat_minor": 5
}
